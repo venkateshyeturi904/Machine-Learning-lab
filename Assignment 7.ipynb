{
 "cells": [
  {
   "cell_type": "markdown",
   "id": "ec021190",
   "metadata": {},
   "source": [
    "# Assignment 7 - oct 18th 2022"
   ]
  },
  {
   "cell_type": "code",
   "execution_count": null,
   "id": "d81885c0",
   "metadata": {},
   "outputs": [],
   "source": [
    "import numpy as np\n",
    "import pandas as pd"
   ]
  },
  {
   "cell_type": "code",
   "execution_count": 71,
   "id": "883f1d64",
   "metadata": {},
   "outputs": [],
   "source": [
    "iris = pd.read_csv(r\"C:\\Users\\Venkatesh Yeturi\\OneDrive\\Desktop\\Class pdfs\\Machine Learning\\all lab assignments\\Iris.csv\")"
   ]
  },
  {
   "cell_type": "code",
   "execution_count": 72,
   "id": "f93e730a",
   "metadata": {},
   "outputs": [],
   "source": [
    "iris_setosa = iris[iris['Species']=='Iris-setosa']\n",
    "iris_versicolor = iris[iris['Species']=='Iris-versicolor']\n",
    "iris_virginica = iris[iris['Species']=='Iris-virginica']"
   ]
  },
  {
   "cell_type": "code",
   "execution_count": 73,
   "id": "a52e7814",
   "metadata": {},
   "outputs": [],
   "source": [
    "iris_setosa = iris_setosa.drop(columns=['Species','Id'])\n",
    "iris_versicolor = iris_versicolor.drop(columns=['Species','Id'])\n",
    "iris_virginica = iris_virginica.drop(columns=['Species','Id'])"
   ]
  },
  {
   "cell_type": "code",
   "execution_count": 119,
   "id": "a31fe208",
   "metadata": {},
   "outputs": [],
   "source": [
    "iris_setosa = np.array(iris_setosa)\n",
    "iris_versicolor = np.array(iris_versicolor)\n",
    "iris_virginica = np.array(iris_virginica)"
   ]
  },
  {
   "cell_type": "code",
   "execution_count": 75,
   "id": "9469c38f",
   "metadata": {},
   "outputs": [],
   "source": [
    "iris_setosa_train = iris_setosa[:35]"
   ]
  },
  {
   "cell_type": "code",
   "execution_count": 76,
   "id": "5c36a243",
   "metadata": {},
   "outputs": [],
   "source": [
    "iris_setosa_test = iris_setosa[35:]"
   ]
  },
  {
   "cell_type": "code",
   "execution_count": 117,
   "id": "45bfe868",
   "metadata": {},
   "outputs": [
    {
     "data": {
      "text/plain": [
       "array([5.04571429, 3.46857143, 1.47714286, 0.24      ])"
      ]
     },
     "execution_count": 117,
     "metadata": {},
     "output_type": "execute_result"
    }
   ],
   "source": [
    "iris_setosa_train_mean = iris_setosa_train.mean(axis=0)\n",
    "iris_setosa_train_mean"
   ]
  },
  {
   "cell_type": "code",
   "execution_count": 78,
   "id": "fadcb5d7",
   "metadata": {},
   "outputs": [],
   "source": [
    "iris_versicolor_train = iris_versicolor[:35]"
   ]
  },
  {
   "cell_type": "code",
   "execution_count": 79,
   "id": "1263db63",
   "metadata": {},
   "outputs": [],
   "source": [
    "iris_versicolor_test = iris_versicolor[35:]"
   ]
  },
  {
   "cell_type": "code",
   "execution_count": 80,
   "id": "a9f2a19c",
   "metadata": {},
   "outputs": [],
   "source": [
    "iris_versicolor_train_mean = iris_versicolor_train.mean(axis=0)"
   ]
  },
  {
   "cell_type": "code",
   "execution_count": 81,
   "id": "40928c25",
   "metadata": {},
   "outputs": [],
   "source": [
    "iris_virginica_train = iris_virginica[:35]"
   ]
  },
  {
   "cell_type": "code",
   "execution_count": 82,
   "id": "b3946601",
   "metadata": {},
   "outputs": [],
   "source": [
    "iris_virginica_test = iris_virginica[35:]"
   ]
  },
  {
   "cell_type": "code",
   "execution_count": 83,
   "id": "955b2178",
   "metadata": {},
   "outputs": [],
   "source": [
    "iris_virginica_train_mean = iris_virginica_train.mean(axis=0)"
   ]
  },
  {
   "cell_type": "code",
   "execution_count": 84,
   "id": "2c8aa3ed",
   "metadata": {},
   "outputs": [
    {
     "data": {
      "text/plain": [
       "array([6.61714286, 2.93714286, 5.62571429, 1.97714286])"
      ]
     },
     "execution_count": 84,
     "metadata": {},
     "output_type": "execute_result"
    }
   ],
   "source": [
    "iris_virginica_train_mean"
   ]
  },
  {
   "cell_type": "code",
   "execution_count": 85,
   "id": "517eed3a",
   "metadata": {},
   "outputs": [],
   "source": [
    "cov_setosa = (iris_setosa_train - iris_setosa_train_mean).T @ (iris_setosa_train - iris_setosa_train_mean)"
   ]
  },
  {
   "cell_type": "code",
   "execution_count": 86,
   "id": "5acfa0a3",
   "metadata": {},
   "outputs": [
    {
     "data": {
      "text/plain": [
       "array([[ 4.46685714,  3.49028571,  0.46657143,  0.506     ],\n",
       "       [ 3.49028571,  4.77542857, -0.04514286,  0.494     ],\n",
       "       [ 0.46657143, -0.04514286,  1.02171429,  0.162     ],\n",
       "       [ 0.506     ,  0.494     ,  0.162     ,  0.364     ]])"
      ]
     },
     "execution_count": 86,
     "metadata": {},
     "output_type": "execute_result"
    }
   ],
   "source": [
    "cov_setosa"
   ]
  },
  {
   "cell_type": "code",
   "execution_count": 87,
   "id": "97d9e726",
   "metadata": {},
   "outputs": [],
   "source": [
    "cov_versicolor = (iris_versicolor_train - iris_versicolor_train_mean).T @ (iris_versicolor_train - iris_versicolor_train_mean)"
   ]
  },
  {
   "cell_type": "code",
   "execution_count": 88,
   "id": "8194e360",
   "metadata": {},
   "outputs": [
    {
     "data": {
      "text/plain": [
       "array([[9.68742857, 3.24942857, 6.17571429, 1.90714286],\n",
       "       [3.24942857, 3.47542857, 2.91571429, 1.53714286],\n",
       "       [6.17571429, 2.91571429, 7.60285714, 2.74857143],\n",
       "       [1.90714286, 1.53714286, 2.74857143, 1.58571429]])"
      ]
     },
     "execution_count": 88,
     "metadata": {},
     "output_type": "execute_result"
    }
   ],
   "source": [
    "cov_versicolor"
   ]
  },
  {
   "cell_type": "code",
   "execution_count": 89,
   "id": "abc07c7c",
   "metadata": {},
   "outputs": [],
   "source": [
    "cov_virginica = (iris_virginica_train - iris_virginica_train_mean ).T @ (iris_virginica_train - iris_virginica_train_mean)"
   ]
  },
  {
   "cell_type": "code",
   "execution_count": 90,
   "id": "add4200b",
   "metadata": {},
   "outputs": [
    {
     "data": {
      "text/plain": [
       "array([[16.46971429,  4.41771429, 12.95457143,  1.60371429],\n",
       "       [ 4.41771429,  4.16171429,  3.23657143,  1.61971429],\n",
       "       [12.95457143,  3.23657143, 12.50685714,  2.02057143],\n",
       "       [ 1.60371429,  1.61971429,  2.02057143,  2.54171429]])"
      ]
     },
     "execution_count": 90,
     "metadata": {},
     "output_type": "execute_result"
    }
   ],
   "source": [
    "cov_virginica"
   ]
  },
  {
   "cell_type": "code",
   "execution_count": 116,
   "id": "d9df7d23",
   "metadata": {},
   "outputs": [
    {
     "data": {
      "text/plain": [
       "array([[ 0.60334672, -0.42970595, -0.27327281, -0.13392447],\n",
       "       [-0.42970595,  0.55411268,  0.26385371, -0.27210098],\n",
       "       [-0.27327281,  0.26385371,  1.19614962, -0.51056025],\n",
       "       [-0.13392447, -0.27210098, -0.51056025,  3.52992974]])"
      ]
     },
     "execution_count": 116,
     "metadata": {},
     "output_type": "execute_result"
    }
   ],
   "source": [
    "inv_cov_setosa = np.linalg.inv(cov_setosa)\n",
    "inv_cov_setosa"
   ]
  },
  {
   "cell_type": "code",
   "execution_count": 92,
   "id": "220b4fb2",
   "metadata": {},
   "outputs": [],
   "source": [
    "inv_cov_versicolor = np.linalg.inv(cov_versicolor)"
   ]
  },
  {
   "cell_type": "code",
   "execution_count": 93,
   "id": "2d44ede3",
   "metadata": {},
   "outputs": [],
   "source": [
    "inv_cov_virginica = np.linalg.inv(cov_virginica)"
   ]
  },
  {
   "cell_type": "code",
   "execution_count": 94,
   "id": "7a159620",
   "metadata": {},
   "outputs": [
    {
     "data": {
      "text/plain": [
       "array([[ 0.42942789, -0.20188941, -0.42402394,  0.1947875 ],\n",
       "       [-0.20188941,  0.45448729,  0.13505956, -0.26960705],\n",
       "       [-0.42402394,  0.13505956,  0.5219208 , -0.23343414],\n",
       "       [ 0.1947875 , -0.26960705, -0.23343414,  0.62791214]])"
      ]
     },
     "execution_count": 94,
     "metadata": {},
     "output_type": "execute_result"
    }
   ],
   "source": [
    "inv_cov_virginica"
   ]
  },
  {
   "cell_type": "code",
   "execution_count": 120,
   "id": "b0116004",
   "metadata": {},
   "outputs": [],
   "source": [
    "def gaussian(x, mean, inv_cov):\n",
    "    return (2*3.14)**(-2) * np.exp( -0.5 * (x-mean).T @ inv_cov @ (x-mean))"
   ]
  },
  {
   "cell_type": "code",
   "execution_count": 121,
   "id": "3afc797b",
   "metadata": {},
   "outputs": [],
   "source": [
    "true_setosa = 0\n",
    "true_versicolor =0\n",
    "true_virginica = 0\n",
    "false_setosa=0\n",
    "false_versicolor=0\n",
    "false_virginica=0"
   ]
  },
  {
   "cell_type": "code",
   "execution_count": 122,
   "id": "a74896fa",
   "metadata": {},
   "outputs": [
    {
     "name": "stdout",
     "output_type": "stream",
     "text": [
      "15 0 0\n"
     ]
    }
   ],
   "source": [
    "for x in iris_setosa_test:\n",
    "    prob_setosa = gaussian(x,iris_setosa_train_mean,inv_cov_setosa)\n",
    "    prob_versicolor = gaussian(x,iris_versicolor_train_mean,inv_cov_versicolor)\n",
    "    prob_virginica = gaussian(x,iris_virginica_train_mean,inv_cov_virginica)\n",
    "    if(prob_setosa>prob_versicolor and prob_setosa>prob_virginica):\n",
    "        true_setosa = true_setosa+1\n",
    "    elif(prob_versicolor>prob_setosa and prob_versicolor>prob_virginica):\n",
    "        false_versicolor = false_versicolor+1\n",
    "    else:\n",
    "        false_virginica = false_virginica+1\n",
    "print(true_setosa,false_versicolor,false_virginica)"
   ]
  },
  {
   "cell_type": "code",
   "execution_count": 123,
   "id": "2e67080b",
   "metadata": {},
   "outputs": [
    {
     "name": "stdout",
     "output_type": "stream",
     "text": [
      "0 15 0\n"
     ]
    }
   ],
   "source": [
    "for x in iris_versicolor_test:\n",
    "    prob_setosa = gaussian(x,iris_setosa_train_mean,inv_cov_setosa)\n",
    "    prob_versicolor = gaussian(x,iris_versicolor_train_mean,inv_cov_versicolor)\n",
    "    prob_virginica = gaussian(x,iris_virginica_train_mean,inv_cov_virginica)\n",
    "    if(prob_setosa>prob_versicolor and prob_setosa>prob_virginica):\n",
    "        false_setosa = false_setosa+1\n",
    "    elif(prob_versicolor>prob_setosa and prob_versicolor>prob_virginica):\n",
    "        true_versicolor = true_versicolor+1\n",
    "    else:\n",
    "        false_virginica = false_virginica+1\n",
    "print(false_setosa,true_versicolor,false_virginica)"
   ]
  },
  {
   "cell_type": "code",
   "execution_count": 124,
   "id": "fc77952a",
   "metadata": {},
   "outputs": [
    {
     "name": "stdout",
     "output_type": "stream",
     "text": [
      "0 0 15\n"
     ]
    }
   ],
   "source": [
    "for x in iris_virginica_test:\n",
    "    prob_setosa = gaussian(x,iris_setosa_train_mean,inv_cov_setosa)\n",
    "    prob_versicolor = gaussian(x,iris_versicolor_train_mean,inv_cov_versicolor)\n",
    "    prob_virginica = gaussian(x,iris_virginica_train_mean,inv_cov_virginica)\n",
    "    if(prob_setosa>prob_versicolor and prob_setosa>prob_virginica):\n",
    "        false_setosa = false_setosa+1\n",
    "    elif(prob_versicolor>prob_setosa and prob_versicolor>prob_virginica):\n",
    "        false_versicolor = false_versicolor+1\n",
    "    else:\n",
    "        true_virginica = true_virginica+1\n",
    "print(false_setosa,false_versicolor,true_virginica)"
   ]
  },
  {
   "cell_type": "code",
   "execution_count": 126,
   "id": "664284b8",
   "metadata": {},
   "outputs": [],
   "source": [
    "confusion_matrix = np.array([[true_setosa,false_versicolor,false_virginica],\n",
    "                           [false_setosa,true_versicolor,false_virginica],\n",
    "                           [false_setosa,false_versicolor,true_virginica]])"
   ]
  },
  {
   "cell_type": "code",
   "execution_count": 127,
   "id": "c0a93f7f",
   "metadata": {},
   "outputs": [
    {
     "data": {
      "text/plain": [
       "array([[15,  0,  0],\n",
       "       [ 0, 15,  0],\n",
       "       [ 0,  0, 15]])"
      ]
     },
     "execution_count": 127,
     "metadata": {},
     "output_type": "execute_result"
    }
   ],
   "source": [
    "confusion_matrix"
   ]
  },
  {
   "cell_type": "code",
   "execution_count": null,
   "id": "585f63ad",
   "metadata": {},
   "outputs": [],
   "source": []
  }
 ],
 "metadata": {
  "kernelspec": {
   "display_name": "Python 3 (ipykernel)",
   "language": "python",
   "name": "python3"
  },
  "language_info": {
   "codemirror_mode": {
    "name": "ipython",
    "version": 3
   },
   "file_extension": ".py",
   "mimetype": "text/x-python",
   "name": "python",
   "nbconvert_exporter": "python",
   "pygments_lexer": "ipython3",
   "version": "3.9.12"
  }
 },
 "nbformat": 4,
 "nbformat_minor": 5
}
