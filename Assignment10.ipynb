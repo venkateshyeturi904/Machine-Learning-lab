{
 "cells": [
  {
   "cell_type": "markdown",
   "id": "ee0e866a",
   "metadata": {},
   "source": [
    "## Assignment 10 - Nov 1st 2022"
   ]
  },
  {
   "cell_type": "code",
   "execution_count": 1,
   "id": "3d8af9e1",
   "metadata": {},
   "outputs": [],
   "source": [
    "import numpy as np\n",
    "import pandas as pd\n",
    "from matplotlib import pyplot as plt"
   ]
  },
  {
   "cell_type": "code",
   "execution_count": 2,
   "id": "08cfb3cc",
   "metadata": {},
   "outputs": [],
   "source": [
    "iris = pd.read_csv(r\"C:\\Users\\Venkatesh Yeturi\\OneDrive\\Desktop\\Class pdfs\\Machine Learning\\all lab assignments\\Iris.csv\")"
   ]
  },
  {
   "cell_type": "code",
   "execution_count": 3,
   "id": "261d25aa",
   "metadata": {},
   "outputs": [
    {
     "data": {
      "text/html": [
       "<div>\n",
       "<style scoped>\n",
       "    .dataframe tbody tr th:only-of-type {\n",
       "        vertical-align: middle;\n",
       "    }\n",
       "\n",
       "    .dataframe tbody tr th {\n",
       "        vertical-align: top;\n",
       "    }\n",
       "\n",
       "    .dataframe thead th {\n",
       "        text-align: right;\n",
       "    }\n",
       "</style>\n",
       "<table border=\"1\" class=\"dataframe\">\n",
       "  <thead>\n",
       "    <tr style=\"text-align: right;\">\n",
       "      <th></th>\n",
       "      <th>Id</th>\n",
       "      <th>SepalLengthCm</th>\n",
       "      <th>SepalWidthCm</th>\n",
       "      <th>PetalLengthCm</th>\n",
       "      <th>PetalWidthCm</th>\n",
       "      <th>Species</th>\n",
       "    </tr>\n",
       "  </thead>\n",
       "  <tbody>\n",
       "    <tr>\n",
       "      <th>0</th>\n",
       "      <td>1</td>\n",
       "      <td>5.1</td>\n",
       "      <td>3.5</td>\n",
       "      <td>1.4</td>\n",
       "      <td>0.2</td>\n",
       "      <td>Iris-setosa</td>\n",
       "    </tr>\n",
       "    <tr>\n",
       "      <th>1</th>\n",
       "      <td>2</td>\n",
       "      <td>4.9</td>\n",
       "      <td>3.0</td>\n",
       "      <td>1.4</td>\n",
       "      <td>0.2</td>\n",
       "      <td>Iris-setosa</td>\n",
       "    </tr>\n",
       "    <tr>\n",
       "      <th>2</th>\n",
       "      <td>3</td>\n",
       "      <td>4.7</td>\n",
       "      <td>3.2</td>\n",
       "      <td>1.3</td>\n",
       "      <td>0.2</td>\n",
       "      <td>Iris-setosa</td>\n",
       "    </tr>\n",
       "    <tr>\n",
       "      <th>3</th>\n",
       "      <td>4</td>\n",
       "      <td>4.6</td>\n",
       "      <td>3.1</td>\n",
       "      <td>1.5</td>\n",
       "      <td>0.2</td>\n",
       "      <td>Iris-setosa</td>\n",
       "    </tr>\n",
       "    <tr>\n",
       "      <th>4</th>\n",
       "      <td>5</td>\n",
       "      <td>5.0</td>\n",
       "      <td>3.6</td>\n",
       "      <td>1.4</td>\n",
       "      <td>0.2</td>\n",
       "      <td>Iris-setosa</td>\n",
       "    </tr>\n",
       "  </tbody>\n",
       "</table>\n",
       "</div>"
      ],
      "text/plain": [
       "   Id  SepalLengthCm  SepalWidthCm  PetalLengthCm  PetalWidthCm      Species\n",
       "0   1            5.1           3.5            1.4           0.2  Iris-setosa\n",
       "1   2            4.9           3.0            1.4           0.2  Iris-setosa\n",
       "2   3            4.7           3.2            1.3           0.2  Iris-setosa\n",
       "3   4            4.6           3.1            1.5           0.2  Iris-setosa\n",
       "4   5            5.0           3.6            1.4           0.2  Iris-setosa"
      ]
     },
     "execution_count": 3,
     "metadata": {},
     "output_type": "execute_result"
    }
   ],
   "source": [
    "iris.head()"
   ]
  },
  {
   "cell_type": "code",
   "execution_count": 4,
   "id": "05eca470",
   "metadata": {},
   "outputs": [],
   "source": [
    "sepalLength_setosa = iris[iris['Species']=='Iris-setosa']['SepalLengthCm']\n",
    "sepalLength_versicolor = iris[iris['Species']=='Iris-versicolor']['SepalLengthCm']\n",
    "sepalLength_virginica = iris[iris['Species']=='Iris-virginica']['SepalLengthCm']\n",
    "\n",
    "sepalWidth_setosa = iris[iris['Species']=='Iris-setosa']['SepalWidthCm']\n",
    "sepalWidth_versicolor = iris[iris['Species']=='Iris-versicolor']['SepalWidthCm']\n",
    "sepalWidth_virginica = iris[iris['Species']=='Iris-virginica']['SepalWidthCm']\n",
    "\n",
    "petalLength_setosa = iris[iris['Species']=='Iris-setosa']['PetalLengthCm']\n",
    "petalLength_versicolor = iris[iris['Species']=='Iris-versicolor']['PetalLengthCm']\n",
    "petalLength_virginica = iris[iris['Species']=='Iris-virginica']['PetalLengthCm']\n",
    "\n",
    "petalWidth_setosa = iris[iris['Species']=='Iris-setosa']['PetalWidthCm']\n",
    "petalWidth_versicolor = iris[iris['Species']=='Iris-versicolor']['PetalWidthCm']\n",
    "petalWidth_virginica = iris[iris['Species']=='Iris-virginica']['PetalWidthCm']\n"
   ]
  },
  {
   "cell_type": "code",
   "execution_count": 5,
   "id": "8dd8c7b3",
   "metadata": {},
   "outputs": [
    {
     "data": {
      "text/plain": [
       "<matplotlib.legend.Legend at 0x2566969bb20>"
      ]
     },
     "execution_count": 5,
     "metadata": {},
     "output_type": "execute_result"
    },
    {
     "data": {
      "image/png": "[encoded data removed]",
      "text/plain": [
       "<Figure size 432x288 with 1 Axes>"
      ]
     },
     "metadata": {
      "needs_background": "light"
     },
     "output_type": "display_data"
    }
   ],
   "source": [
    "\n",
    "plt.hist(sepalLength_setosa,bins=100,label='sepalLength_setosa')\n",
    "plt.hist(sepalLength_versicolor,bins=100,label='sepalLength_versicolor')\n",
    "plt.hist(sepalLength_virginica,bins=100,label='sepalLength_virginica');\n",
    "plt.title('sepal length');\n",
    "plt.legend()"
   ]
  },
  {
   "cell_type": "code",
   "execution_count": 6,
   "id": "0fa8f592",
   "metadata": {},
   "outputs": [
    {
     "data": {
      "text/plain": [
       "<matplotlib.legend.Legend at 0x2566aaac6d0>"
      ]
     },
     "execution_count": 6,
     "metadata": {},
     "output_type": "execute_result"
    },
    {
     "data": {
      "image/png": "[encoded data removed]",
      "text/plain": [
       "<Figure size 432x288 with 1 Axes>"
      ]
     },
     "metadata": {
      "needs_background": "light"
     },
     "output_type": "display_data"
    }
   ],
   "source": [
    "plt.hist(sepalWidth_setosa,bins=100,label='sepalWidth_setosa')\n",
    "plt.hist(sepalWidth_versicolor,bins=100,label='sepalWidth_versicolor')\n",
    "plt.hist(sepalWidth_virginica,bins=100,label='sepalWidth_virginica');\n",
    "plt.title('sepal width');\n",
    "plt.legend()"
   ]
  },
  {
   "cell_type": "code",
   "execution_count": 7,
   "id": "4c38dd5e",
   "metadata": {},
   "outputs": [
    {
     "data": {
      "text/plain": [
       "<matplotlib.legend.Legend at 0x2566acc2550>"
      ]
     },
     "execution_count": 7,
     "metadata": {},
     "output_type": "execute_result"
    },
    {
     "data": {
      "image/png": "[encoded data removed]",
      "text/plain": [
       "<Figure size 432x288 with 1 Axes>"
      ]
     },
     "metadata": {
      "needs_background": "light"
     },
     "output_type": "display_data"
    }
   ],
   "source": [
    "plt.hist(petalLength_setosa,bins=100,label='petalLength_setosa')\n",
    "plt.hist(petalLength_versicolor,bins=100,label='petalLength_versicolor')\n",
    "plt.hist(petalLength_virginica,bins=100,label='petalLength_virginica');\n",
    "plt.title('petal length');\n",
    "plt.legend()"
   ]
  },
  {
   "cell_type": "code",
   "execution_count": 8,
   "id": "2641c2c6",
   "metadata": {},
   "outputs": [
    {
     "data": {
      "image/png": "[encoded data removed]",
      "text/plain": [
       "<Figure size 432x288 with 1 Axes>"
      ]
     },
     "metadata": {
      "needs_background": "light"
     },
     "output_type": "display_data"
    }
   ],
   "source": [
    "plt.hist(petalWidth_setosa,bins=100,label='petalWidth_setosa')\n",
    "plt.hist(petalWidth_versicolor,bins=100,label='petalWidth_versicolor')\n",
    "plt.hist(petalWidth_virginica,bins=100,label='petalWidth_virginica');\n",
    "plt.title('petal width');\n",
    "plt.legend();"
   ]
  },
  {
   "cell_type": "markdown",
   "id": "ff516c45",
   "metadata": {},
   "source": [
    "#### petal width and petal length are more discriminative features"
   ]
  },
  {
   "cell_type": "markdown",
   "id": "bb15b2d0",
   "metadata": {},
   "source": [
    "## Question (ii)"
   ]
  },
  {
   "cell_type": "code",
   "execution_count": 9,
   "id": "60c8a0d1",
   "metadata": {},
   "outputs": [
    {
     "data": {
      "text/plain": [
       "3.4180000000000006"
      ]
     },
     "execution_count": 9,
     "metadata": {},
     "output_type": "execute_result"
    }
   ],
   "source": [
    "sepalWidth_setosa.mean()"
   ]
  },
  {
   "cell_type": "code",
   "execution_count": 10,
   "id": "471d1983",
   "metadata": {},
   "outputs": [],
   "source": [
    "mean_setosa = np.array([sepalLength_setosa.mean(),sepalWidth_setosa.mean(),petalLength_setosa.mean(),petalWidth_setosa.mean()])"
   ]
  },
  {
   "cell_type": "code",
   "execution_count": 11,
   "id": "e1747864",
   "metadata": {},
   "outputs": [],
   "source": [
    "mean_versicolor = np.array([sepalLength_versicolor.mean(),sepalWidth_versicolor.mean(),petalLength_versicolor.mean(),petalWidth_versicolor.mean()])"
   ]
  },
  {
   "cell_type": "code",
   "execution_count": 12,
   "id": "61bf7137",
   "metadata": {},
   "outputs": [
    {
     "data": {
      "text/plain": [
       "array([5.936, 2.77 , 4.26 , 1.326])"
      ]
     },
     "execution_count": 12,
     "metadata": {},
     "output_type": "execute_result"
    }
   ],
   "source": [
    "mean_versicolor"
   ]
  },
  {
   "cell_type": "code",
   "execution_count": 13,
   "id": "677affcd",
   "metadata": {},
   "outputs": [],
   "source": [
    "mean_virginica = np.array([sepalLength_virginica.mean(),sepalWidth_virginica.mean(),petalLength_virginica.mean(),petalWidth_virginica.mean()])"
   ]
  },
  {
   "cell_type": "code",
   "execution_count": 14,
   "id": "bb9c0c36",
   "metadata": {},
   "outputs": [
    {
     "data": {
      "text/plain": [
       "array([6.588, 2.974, 5.552, 2.026])"
      ]
     },
     "execution_count": 14,
     "metadata": {},
     "output_type": "execute_result"
    }
   ],
   "source": [
    "mean_virginica"
   ]
  },
  {
   "cell_type": "code",
   "execution_count": 15,
   "id": "908e1b3f",
   "metadata": {},
   "outputs": [],
   "source": [
    "mean_classes = np.array([mean_setosa,mean_versicolor,mean_virginica])"
   ]
  },
  {
   "cell_type": "markdown",
   "id": "006ffbfd",
   "metadata": {},
   "source": []
  },
  {
   "cell_type": "code",
   "execution_count": 16,
   "id": "96d8fe08",
   "metadata": {},
   "outputs": [],
   "source": [
    "s_setosa = np.cov(pd.DataFrame(iris['SepalLengthCm'],iris['SepalWidthCm'],iris['PetalLengthCm'],iris['PetalWidthCm']),rowvar=True)"
   ]
  },
  {
   "cell_type": "code",
   "execution_count": null,
   "id": "c66dd63a",
   "metadata": {},
   "outputs": [],
   "source": []
  },
  {
   "cell_type": "code",
   "execution_count": 17,
   "id": "137aea13",
   "metadata": {},
   "outputs": [
    {
     "data": {
      "text/html": [
       "<div>\n",
       "<style scoped>\n",
       "    .dataframe tbody tr th:only-of-type {\n",
       "        vertical-align: middle;\n",
       "    }\n",
       "\n",
       "    .dataframe tbody tr th {\n",
       "        vertical-align: top;\n",
       "    }\n",
       "\n",
       "    .dataframe thead th {\n",
       "        text-align: right;\n",
       "    }\n",
       "</style>\n",
       "<table border=\"1\" class=\"dataframe\">\n",
       "  <thead>\n",
       "    <tr style=\"text-align: right;\">\n",
       "      <th></th>\n",
       "      <th>Id</th>\n",
       "      <th>SepalLengthCm</th>\n",
       "      <th>SepalWidthCm</th>\n",
       "      <th>PetalLengthCm</th>\n",
       "      <th>PetalWidthCm</th>\n",
       "      <th>Species</th>\n",
       "    </tr>\n",
       "  </thead>\n",
       "  <tbody>\n",
       "    <tr>\n",
       "      <th>100</th>\n",
       "      <td>101</td>\n",
       "      <td>6.3</td>\n",
       "      <td>3.3</td>\n",
       "      <td>6.0</td>\n",
       "      <td>2.5</td>\n",
       "      <td>Iris-virginica</td>\n",
       "    </tr>\n",
       "    <tr>\n",
       "      <th>101</th>\n",
       "      <td>102</td>\n",
       "      <td>5.8</td>\n",
       "      <td>2.7</td>\n",
       "      <td>5.1</td>\n",
       "      <td>1.9</td>\n",
       "      <td>Iris-virginica</td>\n",
       "    </tr>\n",
       "    <tr>\n",
       "      <th>102</th>\n",
       "      <td>103</td>\n",
       "      <td>7.1</td>\n",
       "      <td>3.0</td>\n",
       "      <td>5.9</td>\n",
       "      <td>2.1</td>\n",
       "      <td>Iris-virginica</td>\n",
       "    </tr>\n",
       "    <tr>\n",
       "      <th>103</th>\n",
       "      <td>104</td>\n",
       "      <td>6.3</td>\n",
       "      <td>2.9</td>\n",
       "      <td>5.6</td>\n",
       "      <td>1.8</td>\n",
       "      <td>Iris-virginica</td>\n",
       "    </tr>\n",
       "    <tr>\n",
       "      <th>104</th>\n",
       "      <td>105</td>\n",
       "      <td>6.5</td>\n",
       "      <td>3.0</td>\n",
       "      <td>5.8</td>\n",
       "      <td>2.2</td>\n",
       "      <td>Iris-virginica</td>\n",
       "    </tr>\n",
       "  </tbody>\n",
       "</table>\n",
       "</div>"
      ],
      "text/plain": [
       "      Id  SepalLengthCm  SepalWidthCm  PetalLengthCm  PetalWidthCm  \\\n",
       "100  101            6.3           3.3            6.0           2.5   \n",
       "101  102            5.8           2.7            5.1           1.9   \n",
       "102  103            7.1           3.0            5.9           2.1   \n",
       "103  104            6.3           2.9            5.6           1.8   \n",
       "104  105            6.5           3.0            5.8           2.2   \n",
       "\n",
       "            Species  \n",
       "100  Iris-virginica  \n",
       "101  Iris-virginica  \n",
       "102  Iris-virginica  \n",
       "103  Iris-virginica  \n",
       "104  Iris-virginica  "
      ]
     },
     "execution_count": 17,
     "metadata": {},
     "output_type": "execute_result"
    }
   ],
   "source": [
    "setosa = iris[iris['Species']=='Iris-setosa']\n",
    "versicolor = iris[iris['Species']=='Iris-versicolor']\n",
    "virginica = iris[iris['Species']=='Iris-virginica']\n",
    "virginica.head()"
   ]
  },
  {
   "cell_type": "code",
   "execution_count": 18,
   "id": "559190bc",
   "metadata": {},
   "outputs": [],
   "source": [
    "cov_setosa = np.cov([setosa['SepalLengthCm'],setosa['SepalWidthCm'],setosa['PetalLengthCm'],setosa['PetalWidthCm']])"
   ]
  },
  {
   "cell_type": "code",
   "execution_count": 19,
   "id": "b795b5e8",
   "metadata": {},
   "outputs": [],
   "source": [
    "cov_versicolor = np.cov([versicolor['SepalLengthCm'],versicolor['SepalWidthCm'],versicolor['PetalLengthCm'],versicolor['PetalWidthCm']])"
   ]
  },
  {
   "cell_type": "code",
   "execution_count": 20,
   "id": "05314e48",
   "metadata": {},
   "outputs": [
    {
     "data": {
      "text/plain": [
       "array([[0.26643265, 0.08518367, 0.18289796, 0.05577959],\n",
       "       [0.08518367, 0.09846939, 0.08265306, 0.04120408],\n",
       "       [0.18289796, 0.08265306, 0.22081633, 0.07310204],\n",
       "       [0.05577959, 0.04120408, 0.07310204, 0.03910612]])"
      ]
     },
     "execution_count": 20,
     "metadata": {},
     "output_type": "execute_result"
    }
   ],
   "source": [
    "cov_versicolor"
   ]
  },
  {
   "cell_type": "code",
   "execution_count": 21,
   "id": "b87eb7d7",
   "metadata": {},
   "outputs": [],
   "source": [
    "cov_virginica = np.cov([virginica['SepalLengthCm'],virginica['SepalWidthCm'],virginica['PetalLengthCm'],virginica['PetalWidthCm']])"
   ]
  },
  {
   "cell_type": "code",
   "execution_count": 22,
   "id": "a4e8c6bb",
   "metadata": {},
   "outputs": [
    {
     "data": {
      "text/plain": [
       "array([[0.40434286, 0.09376327, 0.3032898 , 0.04909388],\n",
       "       [0.09376327, 0.10400408, 0.07137959, 0.04762857],\n",
       "       [0.3032898 , 0.07137959, 0.30458776, 0.04882449],\n",
       "       [0.04909388, 0.04762857, 0.04882449, 0.07543265]])"
      ]
     },
     "execution_count": 22,
     "metadata": {},
     "output_type": "execute_result"
    }
   ],
   "source": [
    "cov_virginica"
   ]
  },
  {
   "cell_type": "code",
   "execution_count": 23,
   "id": "b83a2cf2",
   "metadata": {},
   "outputs": [
    {
     "data": {
      "text/plain": [
       "array([5.84333333, 3.054     , 3.75866667, 1.19866667])"
      ]
     },
     "execution_count": 23,
     "metadata": {},
     "output_type": "execute_result"
    }
   ],
   "source": [
    "mean_iris = np.array([iris['SepalLengthCm'].mean(),iris['SepalWidthCm'].mean(),iris['PetalLengthCm'].mean(),iris['PetalWidthCm'].mean()])\n",
    "mean_iris"
   ]
  },
  {
   "cell_type": "code",
   "execution_count": 24,
   "id": "88b1f349",
   "metadata": {},
   "outputs": [
    {
     "data": {
      "text/plain": [
       "array([[ 0.70112711, -0.30478933,  1.92140089,  0.79937422],\n",
       "       [-0.30478933,  0.132496  , -0.83525867, -0.34749867],\n",
       "       [ 1.92140089, -0.83525867,  5.26549511,  2.19064178],\n",
       "       [ 0.79937422, -0.34749867,  2.19064178,  0.91138844]])"
      ]
     },
     "execution_count": 24,
     "metadata": {},
     "output_type": "execute_result"
    }
   ],
   "source": [
    "sb = np.zeros((4,4))\n",
    "sb\n",
    "np.dot((mean_setosa-mean_iris).reshape(4,1),(mean_setosa-mean_iris).reshape(1,4))"
   ]
  },
  {
   "cell_type": "code",
   "execution_count": 25,
   "id": "b65dc48a",
   "metadata": {},
   "outputs": [
    {
     "data": {
      "text/plain": [
       "array([[ 189.6364,  -58.602 ,  495.494 ,  214.0892],\n",
       "       [ -58.602 ,   32.9328, -168.1656,  -67.4772],\n",
       "       [ 495.494 , -168.1656, 1309.9312,  560.7244],\n",
       "       [ 214.0892,  -67.4772,  560.7244,  241.8124]])"
      ]
     },
     "execution_count": 25,
     "metadata": {},
     "output_type": "execute_result"
    }
   ],
   "source": [
    "for i in range(len(iris['Species'].unique())):\n",
    "    sb = sb + 150*np.dot(    (mean_classes[i]-mean_iris).reshape(4,1) , (mean_classes[i]-mean_iris).reshape(1,4)  )\n",
    "sb"
   ]
  },
  {
   "cell_type": "code",
   "execution_count": 26,
   "id": "897966f8",
   "metadata": {},
   "outputs": [
    {
     "data": {
      "text/plain": [
       "array([[ 0.70112711, -0.30478933,  1.92140089,  0.79937422],\n",
       "       [-0.30478933,  0.132496  , -0.83525867, -0.34749867],\n",
       "       [ 1.92140089, -0.83525867,  5.26549511,  2.19064178],\n",
       "       [ 0.79937422, -0.34749867,  2.19064178,  0.91138844]])"
      ]
     },
     "execution_count": 26,
     "metadata": {},
     "output_type": "execute_result"
    }
   ],
   "source": [
    "s1 =      np.dot( (mean_setosa-mean_iris).reshape(4,1)   ,  (mean_setosa-mean_iris).reshape(1,4)  )\n",
    "s1"
   ]
  },
  {
   "cell_type": "code",
   "execution_count": 27,
   "id": "6502b938",
   "metadata": {},
   "outputs": [
    {
     "data": {
      "text/plain": [
       "array([[ 0.00858711, -0.02631733,  0.04645689,  0.01179956],\n",
       "       [-0.02631733,  0.080656  , -0.14237867, -0.03616267],\n",
       "       [ 0.04645689, -0.14237867,  0.25133511,  0.06383644],\n",
       "       [ 0.01179956, -0.03616267,  0.06383644,  0.01621378]])"
      ]
     },
     "execution_count": 27,
     "metadata": {},
     "output_type": "execute_result"
    }
   ],
   "source": [
    "s2 =      np.dot( (mean_versicolor-mean_iris).reshape(4,1)   ,  (mean_versicolor-mean_iris).reshape(1,4)  )\n",
    "s2"
   ]
  },
  {
   "cell_type": "code",
   "execution_count": 28,
   "id": "86fd07b2",
   "metadata": {},
   "outputs": [
    {
     "data": {
      "text/plain": [
       "array([[ 0.55452844, -0.05957333,  1.33543556,  0.61608756],\n",
       "       [-0.05957333,  0.0064    , -0.14346667, -0.06618667],\n",
       "       [ 1.33543556, -0.14346667,  3.21604444,  1.48368444],\n",
       "       [ 0.61608756, -0.06618667,  1.48368444,  0.68448044]])"
      ]
     },
     "execution_count": 28,
     "metadata": {},
     "output_type": "execute_result"
    }
   ],
   "source": [
    "s3 =      np.dot( (mean_virginica-mean_iris).reshape(4,1)   ,  (mean_virginica-mean_iris).reshape(1,4)  )\n",
    "s3"
   ]
  },
  {
   "cell_type": "code",
   "execution_count": 29,
   "id": "981ee5b4",
   "metadata": {},
   "outputs": [],
   "source": [
    "sw = s1+s2+s3"
   ]
  },
  {
   "cell_type": "code",
   "execution_count": 30,
   "id": "71fc2ebb",
   "metadata": {},
   "outputs": [
    {
     "data": {
      "text/plain": [
       "array([[ 1.26424267, -0.39068   ,  3.30329333,  1.42726133],\n",
       "       [-0.39068   ,  0.219552  , -1.121104  , -0.449848  ],\n",
       "       [ 3.30329333, -1.121104  ,  8.73287467,  3.73816267],\n",
       "       [ 1.42726133, -0.449848  ,  3.73816267,  1.61208267]])"
      ]
     },
     "execution_count": 30,
     "metadata": {},
     "output_type": "execute_result"
    }
   ],
   "source": [
    "sw"
   ]
  },
  {
   "cell_type": "code",
   "execution_count": 31,
   "id": "61eff071",
   "metadata": {},
   "outputs": [
    {
     "data": {
      "text/plain": [
       "array([[  320.,     0., -1280.,     0.],\n",
       "       [    0.,   112.,  -256.,    96.],\n",
       "       [   64.,   -16.,  1536.,  -640.],\n",
       "       [ -512.,    96., -4096.,     0.]])"
      ]
     },
     "execution_count": 31,
     "metadata": {},
     "output_type": "execute_result"
    }
   ],
   "source": [
    "mat = np.dot(np.linalg.inv(sw),sb)\n",
    "mat"
   ]
  },
  {
   "cell_type": "code",
   "execution_count": 32,
   "id": "b90044cb",
   "metadata": {},
   "outputs": [],
   "source": [
    "eigVal , eigVec = np.linalg.eig(mat)"
   ]
  },
  {
   "cell_type": "code",
   "execution_count": 33,
   "id": "357ae04a",
   "metadata": {},
   "outputs": [
    {
     "data": {
      "text/plain": [
       "array([ 2482.78920305, -1089.6492825 ,   465.045015  ,   109.81506444])"
      ]
     },
     "execution_count": 33,
     "metadata": {},
     "output_type": "execute_result"
    }
   ],
   "source": [
    "eigVal"
   ]
  },
  {
   "cell_type": "code",
   "execution_count": 34,
   "id": "ef43a7e0",
   "metadata": {},
   "outputs": [
    {
     "data": {
      "text/plain": [
       "array([[ 0.30630418,  0.20589438, -0.98800562,  0.07964017],\n",
       "       [ 0.0880407 , -0.0277118 , -0.0567197 ,  0.99666335],\n",
       "       [-0.51755576,  0.22674911,  0.11195726,  0.01307747],\n",
       "       [ 0.79407973,  0.95153791,  0.08996303,  0.01218946]])"
      ]
     },
     "execution_count": 34,
     "metadata": {},
     "output_type": "execute_result"
    }
   ],
   "source": [
    "eigVec "
   ]
  },
  {
   "cell_type": "markdown",
   "id": "2c8c9d74",
   "metadata": {},
   "source": [
    "## K means"
   ]
  },
  {
   "cell_type": "code",
   "execution_count": 38,
   "id": "9508f770",
   "metadata": {},
   "outputs": [
    {
     "ename": "ModuleNotFoundError",
     "evalue": "No module named 'cv2'",
     "output_type": "error",
     "traceback": [
      "\u001b[1;31m---------------------------------------------------------------------------\u001b[0m",
      "\u001b[1;31mModuleNotFoundError\u001b[0m                       Traceback (most recent call last)",
      "Input \u001b[1;32mIn [38]\u001b[0m, in \u001b[0;36m<cell line: 1>\u001b[1;34m()\u001b[0m\n\u001b[1;32m----> 1\u001b[0m \u001b[38;5;28;01mimport\u001b[39;00m \u001b[38;5;21;01mcv2\u001b[39;00m\n\u001b[0;32m      2\u001b[0m \u001b[38;5;28;01mimport\u001b[39;00m \u001b[38;5;21;01mnumpy\u001b[39;00m \u001b[38;5;28;01mas\u001b[39;00m \u001b[38;5;21;01mnp\u001b[39;00m\n\u001b[0;32m      3\u001b[0m \u001b[38;5;28;01mimport\u001b[39;00m \u001b[38;5;21;01mmatplotlib\u001b[39;00m\u001b[38;5;21;01m.\u001b[39;00m\u001b[38;5;21;01mpyplot\u001b[39;00m \u001b[38;5;28;01mas\u001b[39;00m \u001b[38;5;21;01mplt\u001b[39;00m\n",
      "\u001b[1;31mModuleNotFoundError\u001b[0m: No module named 'cv2'"
     ]
    }
   ],
   "source": [
    "\n",
    "import cv2\n",
    "import numpy as np\n",
    "import matplotlib.pyplot as plt\n",
    "\n",
    "\n",
    "%matplotlib inline\n",
    "\n",
    "\n",
    "image = cv2.imread('resize.jpeg')\n",
    "\n",
    "image = cv2.cvtColor(image, cv2.COLOR_BGR2RGB)\n",
    "\n",
    "plt.imshow(image)\n",
    "\n",
    "pixel_vals = image.reshape((-1,3))\n",
    "\n",
    "\n",
    "pixel_vals = np.float32(pixel_vals)\n",
    "#becomes 85%\n",
    "criteria = (cv2.TERM_CRITERIA_EPS + cv2.TERM_CRITERIA_MAX_ITER, 100, 0.85)\n",
    "\n",
    "\n",
    "k = 5\n",
    "retval, labels, centers = cv2.kmeans(pixel_vals, k, None, criteria, 10, cv2.KMEANS_RANDOM_CENTERS)\n",
    "\n",
    "centers = np.uint8(centers)\n",
    "segmented_data = centers[labels.flatten()]\n",
    "\n",
    "segmented_image = segmented_data.reshape((image.shape))\n",
    "\n",
    "plt.imshow(segmented_image)\n",
    "\n",
    "\n"
   ]
  },
  {
   "cell_type": "code",
   "execution_count": 39,
   "id": "4a1a1a66",
   "metadata": {},
   "outputs": [
    {
     "ename": "ModuleNotFoundError",
     "evalue": "No module named 'cv2'",
     "output_type": "error",
     "traceback": [
      "\u001b[1;31m---------------------------------------------------------------------------\u001b[0m",
      "\u001b[1;31mModuleNotFoundError\u001b[0m                       Traceback (most recent call last)",
      "Input \u001b[1;32mIn [39]\u001b[0m, in \u001b[0;36m<cell line: 1>\u001b[1;34m()\u001b[0m\n\u001b[1;32m----> 1\u001b[0m \u001b[38;5;28;01mimport\u001b[39;00m \u001b[38;5;21;01mcv2\u001b[39;00m\n",
      "\u001b[1;31mModuleNotFoundError\u001b[0m: No module named 'cv2'"
     ]
    }
   ],
   "source": [
    "import cv2"
   ]
  },
  {
   "cell_type": "code",
   "execution_count": null,
   "id": "ee4cbd3e",
   "metadata": {},
   "outputs": [],
   "source": []
  }
 ],
 "metadata": {
  "kernelspec": {
   "display_name": "Python 3 (ipykernel)",
   "language": "python",
   "name": "python3"
  },
  "language_info": {
   "codemirror_mode": {
    "name": "ipython",
    "version": 3
   },
   "file_extension": ".py",
   "mimetype": "text/x-python",
   "name": "python",
   "nbconvert_exporter": "python",
   "pygments_lexer": "ipython3",
   "version": "3.9.12"
  }
 },
 "nbformat": 4,
 "nbformat_minor": 5
}
