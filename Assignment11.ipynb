{
 "cells": [
  {
   "cell_type": "markdown",
   "id": "4c634355",
   "metadata": {},
   "source": [
    "# SVM"
   ]
  },
  {
   "cell_type": "code",
   "execution_count": 4,
   "id": "929d7ad8",
   "metadata": {},
   "outputs": [],
   "source": [
    "import numpy as np\n",
    "import pandas as pd\n",
    "from sklearn import svm"
   ]
  },
  {
   "cell_type": "code",
   "execution_count": 50,
   "id": "cd1eb6f3",
   "metadata": {},
   "outputs": [],
   "source": [
    "array = np.loadtxt(r\"C:\\Users\\Venkatesh Yeturi\\OneDrive\\Desktop\\Class pdfs\\Machine Learning\\all lab assignments\\seeds_dataset.txt\")"
   ]
  },
  {
   "cell_type": "code",
   "execution_count": null,
   "id": "ffa89a4d",
   "metadata": {},
   "outputs": [],
   "source": [
    "class1 = array[0:]"
   ]
  },
  {
   "cell_type": "code",
   "execution_count": 68,
   "id": "f96ea188",
   "metadata": {},
   "outputs": [],
   "source": [
    "output= []\n",
    "input = []\n",
    "for a in array:\n",
    "    output.append(a[7])\n",
    "    temp = []\n",
    "    for i in a[0:7]:\n",
    "        temp.append(i)\n",
    "    t = np.array(temp)\n",
    "    input.append(t)"
   ]
  },
  {
   "cell_type": "code",
   "execution_count": 85,
   "id": "d420a991",
   "metadata": {},
   "outputs": [],
   "source": [
    "output1=[]\n",
    "output2=[]\n",
    "output3=[]\n",
    "for i in output:\n",
    "    if(i==1):\n",
    "        output1.append(i)\n",
    "    elif(i==2):\n",
    "        output2.append(i)\n",
    "    else:\n",
    "        output3.append(i)\n",
    "l1=len(output1)\n",
    "l2=len(output2)\n",
    "l3=len(output3)"
   ]
  },
  {
   "cell_type": "code",
   "execution_count": 71,
   "id": "79d0107a",
   "metadata": {},
   "outputs": [],
   "source": [
    "op = np.array(output)\n",
    "ip = np.array(input)"
   ]
  },
  {
   "cell_type": "code",
   "execution_count": 119,
   "id": "52b76f92",
   "metadata": {},
   "outputs": [],
   "source": [
    "train_index = [i for i in range(50)]\n",
    "for i in range(70,120):\n",
    "    train_index.append(i)\n",
    "for i in range(140,190):\n",
    "    train_index.append(i)\n",
    "\n",
    "test_index = [ i for i in range(50,70)]\n",
    "for i in range(120,140):\n",
    "    test_index.append(i)\n",
    "for i in range(190,210):\n",
    "    test_index.append(i)\n",
    "\n",
    "train_ip = []\n",
    "train_op = []\n",
    "test_ip = []\n",
    "test_op = []\n",
    "for i in train_index:\n",
    "    train_ip.append(input[i])\n",
    "    train_op.append(output[i])\n",
    "for i in test_index:\n",
    "    test_ip.append(input[i])\n",
    "    test_op.append(output[i])\n",
    "    "
   ]
  },
  {
   "cell_type": "code",
   "execution_count": 105,
   "id": "8b0fdd3d",
   "metadata": {},
   "outputs": [
    {
     "data": {
      "text/plain": [
       "array([4., 4., 4., 4., 4., 4., 4., 4., 4., 4., 4., 4., 4., 4., 4., 4., 4.,\n",
       "       4., 4., 4., 4., 4., 4., 4., 4., 4., 4., 4., 4., 4., 4., 4., 4., 4.,\n",
       "       4., 4., 4., 4., 4., 4., 4., 4., 4., 4., 4., 4., 4., 4., 4., 4.])"
      ]
     },
     "execution_count": 105,
     "metadata": {},
     "output_type": "execute_result"
    }
   ],
   "source": [
    "op_train"
   ]
  },
  {
   "cell_type": "code",
   "execution_count": 116,
   "id": "b50239c7",
   "metadata": {},
   "outputs": [],
   "source": [
    "clf = svm.SVC()"
   ]
  },
  {
   "cell_type": "code",
   "execution_count": 121,
   "id": "9254d310",
   "metadata": {},
   "outputs": [
    {
     "data": {
      "text/plain": [
       "SVC()"
      ]
     },
     "execution_count": 121,
     "metadata": {},
     "output_type": "execute_result"
    }
   ],
   "source": [
    "clf.fit(train_ip,train_op)"
   ]
  },
  {
   "cell_type": "code",
   "execution_count": 129,
   "id": "646ed37d",
   "metadata": {},
   "outputs": [
    {
     "data": {
      "text/plain": [
       "[1.0,\n",
       " 1.0,\n",
       " 1.0,\n",
       " 1.0,\n",
       " 1.0,\n",
       " 1.0,\n",
       " 1.0,\n",
       " 1.0,\n",
       " 1.0,\n",
       " 1.0,\n",
       " 1.0,\n",
       " 1.0,\n",
       " 1.0,\n",
       " 1.0,\n",
       " 1.0,\n",
       " 1.0,\n",
       " 1.0,\n",
       " 1.0,\n",
       " 1.0,\n",
       " 1.0,\n",
       " 2.0,\n",
       " 2.0,\n",
       " 2.0,\n",
       " 2.0,\n",
       " 2.0,\n",
       " 2.0,\n",
       " 2.0,\n",
       " 2.0,\n",
       " 2.0,\n",
       " 2.0,\n",
       " 2.0,\n",
       " 2.0,\n",
       " 2.0,\n",
       " 2.0,\n",
       " 2.0,\n",
       " 2.0,\n",
       " 2.0,\n",
       " 2.0,\n",
       " 2.0,\n",
       " 2.0,\n",
       " 3.0,\n",
       " 3.0,\n",
       " 3.0,\n",
       " 3.0,\n",
       " 3.0,\n",
       " 3.0,\n",
       " 3.0,\n",
       " 3.0,\n",
       " 3.0,\n",
       " 3.0,\n",
       " 3.0,\n",
       " 3.0,\n",
       " 3.0,\n",
       " 3.0,\n",
       " 3.0,\n",
       " 3.0,\n",
       " 3.0,\n",
       " 3.0,\n",
       " 3.0,\n",
       " 3.0]"
      ]
     },
     "execution_count": 129,
     "metadata": {},
     "output_type": "execute_result"
    }
   ],
   "source": [
    "test_op"
   ]
  },
  {
   "cell_type": "code",
   "execution_count": 136,
   "id": "1bf21185",
   "metadata": {},
   "outputs": [
    {
     "name": "stdout",
     "output_type": "stream",
     "text": [
      "1.0\n",
      "1.0\n",
      "1.0\n",
      "1.0\n",
      "1.0\n",
      "1.0\n",
      "1.0\n",
      "1.0\n",
      "1.0\n",
      "1.0\n",
      "1.0\n",
      "1.0\n",
      "1.0\n",
      "1.0\n",
      "1.0\n",
      "2.0\n",
      "2.0\n",
      "2.0\n",
      "2.0\n",
      "2.0\n",
      "2.0\n",
      "2.0\n",
      "2.0\n",
      "2.0\n",
      "2.0\n",
      "2.0\n",
      "3.0\n",
      "3.0\n",
      "3.0\n",
      "3.0\n",
      "3.0\n",
      "3.0\n",
      "3.0\n",
      "3.0\n",
      "3.0\n",
      "3.0\n",
      "3.0\n",
      "3.0\n",
      "3.0\n",
      "3.0\n",
      "3.0\n",
      "3.0\n",
      "3.0\n",
      "3.0\n",
      "44\n"
     ]
    }
   ],
   "source": [
    "predicted = []\n",
    "count=0\n",
    "for i in range(len(test_ip)):\n",
    "    predicted.append(clf.predict([test_ip[i]]))\n",
    "    if(clf.predict([test_ip[i]])[0]==test_op[i]):\n",
    "        print(clf.predict([test_ip[i]])[0])\n",
    "        count+=1\n",
    "\n",
    "print(count)"
   ]
  },
  {
   "cell_type": "code",
   "execution_count": 133,
   "id": "42c2e1f3",
   "metadata": {},
   "outputs": [
    {
     "data": {
      "text/plain": [
       "[array([1.]),\n",
       " array([1.]),\n",
       " array([1.]),\n",
       " array([1.]),\n",
       " array([1.]),\n",
       " array([1.]),\n",
       " array([1.]),\n",
       " array([1.]),\n",
       " array([1.]),\n",
       " array([1.]),\n",
       " array([3.]),\n",
       " array([3.]),\n",
       " array([3.]),\n",
       " array([3.]),\n",
       " array([1.]),\n",
       " array([1.]),\n",
       " array([1.]),\n",
       " array([1.]),\n",
       " array([1.]),\n",
       " array([3.]),\n",
       " array([2.]),\n",
       " array([2.]),\n",
       " array([1.]),\n",
       " array([2.]),\n",
       " array([1.]),\n",
       " array([2.]),\n",
       " array([2.]),\n",
       " array([2.]),\n",
       " array([2.]),\n",
       " array([2.]),\n",
       " array([2.]),\n",
       " array([2.]),\n",
       " array([1.]),\n",
       " array([1.]),\n",
       " array([1.]),\n",
       " array([1.]),\n",
       " array([2.]),\n",
       " array([1.]),\n",
       " array([1.]),\n",
       " array([1.]),\n",
       " array([3.]),\n",
       " array([3.]),\n",
       " array([3.]),\n",
       " array([3.]),\n",
       " array([3.]),\n",
       " array([3.]),\n",
       " array([3.]),\n",
       " array([3.]),\n",
       " array([3.]),\n",
       " array([1.]),\n",
       " array([3.]),\n",
       " array([1.]),\n",
       " array([3.]),\n",
       " array([3.]),\n",
       " array([3.]),\n",
       " array([3.]),\n",
       " array([3.]),\n",
       " array([3.]),\n",
       " array([3.]),\n",
       " array([3.])]"
      ]
     },
     "execution_count": 133,
     "metadata": {},
     "output_type": "execute_result"
    }
   ],
   "source": [
    "predicted"
   ]
  },
  {
   "cell_type": "code",
   "execution_count": 134,
   "id": "2cf48d43",
   "metadata": {},
   "outputs": [
    {
     "data": {
      "text/plain": [
       "73.33333333333333"
      ]
     },
     "execution_count": 134,
     "metadata": {},
     "output_type": "execute_result"
    }
   ],
   "source": [
    "acc = (count/60)*100\n",
    "acc"
   ]
  },
  {
   "cell_type": "code",
   "execution_count": 135,
   "id": "9dd39bb2",
   "metadata": {},
   "outputs": [
    {
     "data": {
      "text/plain": [
       "60"
      ]
     },
     "execution_count": 135,
     "metadata": {},
     "output_type": "execute_result"
    }
   ],
   "source": [
    "len(test_op)"
   ]
  },
  {
   "cell_type": "code",
   "execution_count": 137,
   "id": "f6240904",
   "metadata": {},
   "outputs": [],
   "source": [
    "from sklearn.metrics import confusion_matrix as cm"
   ]
  },
  {
   "cell_type": "code",
   "execution_count": 138,
   "id": "3a703190",
   "metadata": {},
   "outputs": [],
   "source": [
    "import seaborn as sns"
   ]
  },
  {
   "cell_type": "code",
   "execution_count": 139,
   "id": "3f2d3ce1",
   "metadata": {},
   "outputs": [
    {
     "data": {
      "text/plain": [
       "<AxesSubplot:>"
      ]
     },
     "execution_count": 139,
     "metadata": {},
     "output_type": "execute_result"
    },
    {
     "data": {
      "image/png": "[encoded data removed]",
      "text/plain": [
       "<Figure size 432x288 with 2 Axes>"
      ]
     },
     "metadata": {
      "needs_background": "light"
     },
     "output_type": "display_data"
    }
   ],
   "source": [
    "sns.heatmap(cm(test_op, predicted), annot=True)"
   ]
  },
  {
   "cell_type": "code",
   "execution_count": null,
   "id": "41dab5e0",
   "metadata": {},
   "outputs": [],
   "source": []
  },
  {
   "cell_type": "markdown",
   "id": "44d65e33",
   "metadata": {},
   "source": [
    "## Question 2 :\n"
   ]
  },
  {
   "cell_type": "code",
   "execution_count": 151,
   "id": "66392d8e",
   "metadata": {},
   "outputs": [
    {
     "name": "stdout",
     "output_type": "stream",
     "text": [
      " test1[0] OR test1[1] =  1\n",
      " test2[0] OR test2[1] =  1\n",
      " test3[0] OR test3[1] =  0\n",
      " test4[0] OR test4[1] =  1\n",
      "-----\n",
      " test1[0] AND test1[1] =  0\n",
      " test2[0] AND test2[1] =  1\n",
      " test3[0] AND test3[1] =  0\n",
      " test4[0] AND test4[1] =  0\n",
      "-------\n"
     ]
    }
   ],
   "source": [
    "\n",
    "import numpy as np\n",
    "  \n",
    "\n",
    "def unit(v):\n",
    "    if v >= 0:\n",
    "        return 1\n",
    "    else:\n",
    "        return 0\n",
    "\n",
    "  \n",
    "def perceptronModel(x, w, b):\n",
    "    v = np.dot(w,x)+b\n",
    "    return unit(v)\n",
    "\n",
    "def OR_logic(x):\n",
    "    w = np.array([1, 1])\n",
    "    b = -0.5\n",
    "    return perceptronModel(x, w, b)\n",
    "\n",
    "def AND_logic(x):\n",
    "    w=np.array([1,1])\n",
    "    b=-1.5\n",
    "    return perceptronModel(x, w, b)\n",
    "\n",
    "\n",
    "\n",
    "test1 = np.array([0, 1])\n",
    "test2 = np.array([1, 1])\n",
    "test3 = np.array([0, 0])\n",
    "test4 = np.array([1, 0])\n",
    "  \n",
    "print(\" test1[0] OR test1[1] = \",OR_logic(test1))\n",
    "print(\" test2[0] OR test2[1] = \",OR_logic(test2))\n",
    "print(\" test3[0] OR test3[1] = \",OR_logic(test3))\n",
    "print(\" test4[0] OR test4[1] = \",OR_logic(test4))\n",
    "print('-----')\n",
    "print(\" test1[0] AND test1[1] = \",AND_logic(test1))\n",
    "print(\" test2[0] AND test2[1] = \",AND_logic(test2))\n",
    "print(\" test3[0] AND test3[1] = \",AND_logic(test3))\n",
    "print(\" test4[0] AND test4[1] = \",AND_logic(test4))\n",
    "print(\"-------\")\n",
    "\n"
   ]
  },
  {
   "cell_type": "code",
   "execution_count": null,
   "id": "47968345",
   "metadata": {},
   "outputs": [],
   "source": []
  }
 ],
 "metadata": {
  "kernelspec": {
   "display_name": "Python 3 (ipykernel)",
   "language": "python",
   "name": "python3"
  },
  "language_info": {
   "codemirror_mode": {
    "name": "ipython",
    "version": 3
   },
   "file_extension": ".py",
   "mimetype": "text/x-python",
   "name": "python",
   "nbconvert_exporter": "python",
   "pygments_lexer": "ipython3",
   "version": "3.9.12"
  }
 },
 "nbformat": 4,
 "nbformat_minor": 5
}
