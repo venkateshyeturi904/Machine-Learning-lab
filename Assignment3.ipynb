{
 "cells": [
  {
   "cell_type": "markdown",
   "id": "bcfcaf61",
   "metadata": {},
   "source": [
    "## Assignment 3 - 30th aug 2022"
   ]
  },
  {
   "cell_type": "markdown",
   "id": "619b0ea0",
   "metadata": {},
   "source": [
    "#### 1. Naive Bayes Theorem"
   ]
  },
  {
   "cell_type": "code",
   "execution_count": 121,
   "id": "7269660d",
   "metadata": {},
   "outputs": [],
   "source": [
    "import numpy as np\n",
    "import math\n",
    "import pandas as pd\n",
    "from matplotlib import pyplot as plt"
   ]
  },
  {
   "cell_type": "code",
   "execution_count": 122,
   "id": "3630aa3d",
   "metadata": {},
   "outputs": [
    {
     "name": "stdout",
     "output_type": "stream",
     "text": [
      "India won the match and its probability is :  0.8387096774193548\n"
     ]
    }
   ],
   "source": [
    "# assume value of RV 1 represents India and 0 represents Pakistan\n",
    "# X random variable representing hosting team\n",
    "# Y random variable representing winning team\n",
    "x1=0 # hosting by pakistan\n",
    "x2=1 # hosting by india\n",
    "y1=0 # won by pakistan\n",
    "y2=1 # won by india\n",
    "def prior(a):\n",
    "    if(a==1):\n",
    "        return 0.65\n",
    "    if(a==0):\n",
    "        return 0.35\n",
    "def likelihood(a,b):\n",
    "    if(b==1):\n",
    "        if(a==0):\n",
    "            return 0.3\n",
    "        if(a==1):\n",
    "            return 0.7\n",
    "    if(b==0):\n",
    "        if(a==0):\n",
    "            return 0.75\n",
    "        if(a==1):\n",
    "            return 0.25\n",
    "evidence = (likelihood(x2,y2)*prior(y2))+(likelihood(x2,y1)*prior(y1))\n",
    "\n",
    "def posterior(a,b):\n",
    "    return (likelihood(b,a)*prior(a))/(evidence)\n",
    "print('India won the match and its probability is : ',posterior(y2,x2)) if posterior(y2,x2)>posterior(y1,x2) else print('pakistan won the match ans its probability is : ',posterior(y1,x2))"
   ]
  },
  {
   "cell_type": "markdown",
   "id": "50ca84d8",
   "metadata": {},
   "source": [
    "#### 2. Naive Bayes Classification"
   ]
  },
  {
   "cell_type": "code",
   "execution_count": 110,
   "id": "8e3be738",
   "metadata": {},
   "outputs": [
    {
     "name": "stdout",
     "output_type": "stream",
     "text": [
      "   tid house_owner marital_status  annual_income defaulter\n",
      "0    1         yes         single         125000        no\n",
      "1    2          no        married         100000        no\n",
      "2    3          no         single          70000        no\n",
      "3    4         yes        married         120000        no\n",
      "4    5          no       divorced          95000       yes\n",
      "5    6          no        married          60000        no\n",
      "6    7         yes       divorced         220000        no\n",
      "7    8          no         single          85000       yes\n",
      "8    9          no        married          75000        no\n",
      "9   10          no         single          90000       yes\n"
     ]
    }
   ],
   "source": [
    "df = pd.read_csv(r\"C:\\Users\\Venkatesh Yeturi\\OneDrive\\Desktop\\ml assignments new\\dataset.csv\")\n",
    "print(df)"
   ]
  },
  {
   "cell_type": "code",
   "execution_count": 111,
   "id": "d3214f72",
   "metadata": {},
   "outputs": [],
   "source": [
    "# by looking at the dataset, home_owner is discriminating"
   ]
  },
  {
   "cell_type": "code",
   "execution_count": 112,
   "id": "0ccc82b6",
   "metadata": {},
   "outputs": [],
   "source": [
    "df1 = df.replace([\"yes\",\"no\",\"single\",\"married\",\"divorced\"],[1,0,0,1,2])"
   ]
  },
  {
   "cell_type": "code",
   "execution_count": 113,
   "id": "1ce3801f",
   "metadata": {},
   "outputs": [
    {
     "data": {
      "text/html": [
       "<div>\n",
       "<style scoped>\n",
       "    .dataframe tbody tr th:only-of-type {\n",
       "        vertical-align: middle;\n",
       "    }\n",
       "\n",
       "    .dataframe tbody tr th {\n",
       "        vertical-align: top;\n",
       "    }\n",
       "\n",
       "    .dataframe thead th {\n",
       "        text-align: right;\n",
       "    }\n",
       "</style>\n",
       "<table border=\"1\" class=\"dataframe\">\n",
       "  <thead>\n",
       "    <tr style=\"text-align: right;\">\n",
       "      <th></th>\n",
       "      <th>tid</th>\n",
       "      <th>house_owner</th>\n",
       "      <th>marital_status</th>\n",
       "      <th>annual_income</th>\n",
       "      <th>defaulter</th>\n",
       "    </tr>\n",
       "  </thead>\n",
       "  <tbody>\n",
       "    <tr>\n",
       "      <th>0</th>\n",
       "      <td>1</td>\n",
       "      <td>1</td>\n",
       "      <td>0</td>\n",
       "      <td>125000</td>\n",
       "      <td>0</td>\n",
       "    </tr>\n",
       "    <tr>\n",
       "      <th>1</th>\n",
       "      <td>2</td>\n",
       "      <td>0</td>\n",
       "      <td>1</td>\n",
       "      <td>100000</td>\n",
       "      <td>0</td>\n",
       "    </tr>\n",
       "    <tr>\n",
       "      <th>2</th>\n",
       "      <td>3</td>\n",
       "      <td>0</td>\n",
       "      <td>0</td>\n",
       "      <td>70000</td>\n",
       "      <td>0</td>\n",
       "    </tr>\n",
       "    <tr>\n",
       "      <th>3</th>\n",
       "      <td>4</td>\n",
       "      <td>1</td>\n",
       "      <td>1</td>\n",
       "      <td>120000</td>\n",
       "      <td>0</td>\n",
       "    </tr>\n",
       "    <tr>\n",
       "      <th>4</th>\n",
       "      <td>5</td>\n",
       "      <td>0</td>\n",
       "      <td>2</td>\n",
       "      <td>95000</td>\n",
       "      <td>1</td>\n",
       "    </tr>\n",
       "    <tr>\n",
       "      <th>5</th>\n",
       "      <td>6</td>\n",
       "      <td>0</td>\n",
       "      <td>1</td>\n",
       "      <td>60000</td>\n",
       "      <td>0</td>\n",
       "    </tr>\n",
       "    <tr>\n",
       "      <th>6</th>\n",
       "      <td>7</td>\n",
       "      <td>1</td>\n",
       "      <td>2</td>\n",
       "      <td>220000</td>\n",
       "      <td>0</td>\n",
       "    </tr>\n",
       "    <tr>\n",
       "      <th>7</th>\n",
       "      <td>8</td>\n",
       "      <td>0</td>\n",
       "      <td>0</td>\n",
       "      <td>85000</td>\n",
       "      <td>1</td>\n",
       "    </tr>\n",
       "    <tr>\n",
       "      <th>8</th>\n",
       "      <td>9</td>\n",
       "      <td>0</td>\n",
       "      <td>1</td>\n",
       "      <td>75000</td>\n",
       "      <td>0</td>\n",
       "    </tr>\n",
       "    <tr>\n",
       "      <th>9</th>\n",
       "      <td>10</td>\n",
       "      <td>0</td>\n",
       "      <td>0</td>\n",
       "      <td>90000</td>\n",
       "      <td>1</td>\n",
       "    </tr>\n",
       "  </tbody>\n",
       "</table>\n",
       "</div>"
      ],
      "text/plain": [
       "   tid  house_owner  marital_status  annual_income  defaulter\n",
       "0    1            1               0         125000          0\n",
       "1    2            0               1         100000          0\n",
       "2    3            0               0          70000          0\n",
       "3    4            1               1         120000          0\n",
       "4    5            0               2          95000          1\n",
       "5    6            0               1          60000          0\n",
       "6    7            1               2         220000          0\n",
       "7    8            0               0          85000          1\n",
       "8    9            0               1          75000          0\n",
       "9   10            0               0          90000          1"
      ]
     },
     "execution_count": 113,
     "metadata": {},
     "output_type": "execute_result"
    }
   ],
   "source": [
    "df1"
   ]
  },
  {
   "cell_type": "code",
   "execution_count": 114,
   "id": "81593268",
   "metadata": {},
   "outputs": [],
   "source": [
    "# defaulter d1(yes) = 1, d2(no) = 0\n",
    "# home_owner h1(yes) = 1, h2(no) = 0\n",
    "h1=1 #homeowner\n",
    "h2=0 #notAHomeOwner\n",
    "d1=1 #defaulter\n",
    "d2=0 #notADefaulter\n",
    "m1=0 #single\n",
    "m2=1 #married\n",
    "m3=2 #divorced\n",
    "\n",
    "def prior(a):\n",
    "    if(a==1):\n",
    "        return df1['house_owner'].value_counts().iloc[1]/len(df1)  #homeowner\n",
    "    if(a==0):\n",
    "        return df1['house_owner'].value_counts().iloc[0]/len(df1)  #notAHomeOwner\n",
    "def likelihood1(d,h):\n",
    "    if(h==h1):\n",
    "        return len(df1.loc[(df1['house_owner']==h1)&(df1['defaulter']==d)].value_counts())/len(df1.loc[(df1['house_owner']==1)].value_counts())\n",
    "    if(h==h2):\n",
    "        return len(df1.loc[(df1['house_owner']==h2)&(df1['defaulter']==d)].value_counts())/len(df1.loc[(df1['house_owner']==0)].value_counts())\n",
    "\n",
    "evidence1 = (likelihood1(d1,h1)*prior(h1))+(likelihood1(d1,h2)*prior(h2))\n",
    "\n",
    "\n",
    "def prior2(m):\n",
    "    if(m==m1):\n",
    "        return df1['marital_status'].value_counts().iloc[0]/len(df1)  #homeowner\n",
    "    if(m==m2):\n",
    "        return df1['marital_status'].value_counts().iloc[1]/len(df1)  #homeowner\n",
    "    if(m==m3):\n",
    "        return df1['marital_status'].value_counts().iloc[2]/len(df1)  #homeowner\n",
    "\n",
    "def likelihood2(d,m):\n",
    "    if(m==m1):\n",
    "        return len(df1.loc[(df1['marital_status']==m1)&(df1['defaulter']==d)].value_counts())/len(df1.loc[(df1['marital_status']==m1)].value_counts())\n",
    "    if(m==m2):\n",
    "        return len(df1.loc[(df1['marital_status']==m2)&(df1['defaulter']==d)].value_counts())/len(df1.loc[(df1['marital_status']==m2)].value_counts())\n",
    "    if(m==m3):\n",
    "        return len(df1.loc[(df1['marital_status']==m3)&(df1['defaulter']==d)].value_counts())/len(df1.loc[(df1['marital_status']==m3)].value_counts())\n",
    "\n",
    "evidence2 =  (likelihood2(d1,m1)*prior2(m1))+(likelihood2(d1,m2)*prior2(m2))+(likelihood2(d1,m3)*prior2(m3))\n",
    "\n",
    "ph1byd1 = (likelihood1(d1,h1)*prior(h1))/evidence\n",
    "ph2byd1 = (likelihood1(d1,h2)*prior(h2))/evidence\n",
    "pm1byd1 = (likelihood2(d1,m1)*prior2(m1))/evidence2\n",
    "pm2byd1 = (likelihood2(d1,m2)*prior2(m2))/evidence2\n",
    "pm3byd1 = (likelihood2(d1,m3)*prior2(m3))/evidence2\n"
   ]
  },
  {
   "cell_type": "code",
   "execution_count": 115,
   "id": "4e239148",
   "metadata": {},
   "outputs": [
    {
     "name": "stdout",
     "output_type": "stream",
     "text": [
      "P(home_owner/defaulter) =  0.0\n",
      "P(notHomeOwner/defaulter) =  0.5529953917050692\n",
      "P(single/defaulter) =  0.6666666666666666\n",
      "P(married/defaulter) =  0.0\n",
      "P(divorced/dafaulter) =  0.3333333333333333\n"
     ]
    }
   ],
   "source": [
    "print('P(home_owner/defaulter) = ',ph1byd1)\n",
    "print('P(notHomeOwner/defaulter) = ',ph2byd1)\n",
    "print('P(single/defaulter) = ', pm1byd1)\n",
    "print('P(married/defaulter) = ',pm2byd1)\n",
    "print('P(divorced/dafaulter) = ',pm3byd1)"
   ]
  },
  {
   "cell_type": "code",
   "execution_count": 140,
   "id": "96bf4c14",
   "metadata": {},
   "outputs": [
    {
     "name": "stdout",
     "output_type": "stream",
     "text": [
      "104000.0 45631.373223060276 2082222222.2222223\n"
     ]
    }
   ],
   "source": [
    "meanOfIncome=df1.describe()['annual_income'].iloc[1]\n",
    "stdOfIncome=df1.describe()['annual_income'].iloc[2]\n",
    "varianceOfIncome=stdOfIncome*stdOfIncome\n",
    "print(meanOfIncome,stdOfIncome,varianceOfIncome)"
   ]
  },
  {
   "cell_type": "code",
   "execution_count": 144,
   "id": "d7a74ab3",
   "metadata": {},
   "outputs": [
    {
     "data": {
      "image/png": "[encoded data removed]",
      "text/plain": [
       "<Figure size 432x288 with 1 Axes>"
      ]
     },
     "metadata": {
      "needs_background": "light"
     },
     "output_type": "display_data"
    }
   ],
   "source": [
    "def gaussian(sigma,u,x):\n",
    "        return (1/sigma*(math.sqrt(2*math.pi)))*(math.exp(-(x-u)*(x-u)/(2*sigma*sigma)))\n",
    "\n",
    "for x in np.linspace(-3000,300000,300):\n",
    "    plt.plot(x,gaussian(stdOfIncome,meanOfIncome,x))\n",
    "    "
   ]
  },
  {
   "cell_type": "code",
   "execution_count": null,
   "id": "4d63ea7d",
   "metadata": {},
   "outputs": [],
   "source": [
    "h=h2\n",
    "m=m2\n",
    "income=120000\n"
   ]
  },
  {
   "cell_type": "code",
   "execution_count": null,
   "id": "341cf493",
   "metadata": {},
   "outputs": [],
   "source": []
  }
 ],
 "metadata": {
  "kernelspec": {
   "display_name": "Python 3 (ipykernel)",
   "language": "python",
   "name": "python3"
  },
  "language_info": {
   "codemirror_mode": {
    "name": "ipython",
    "version": 3
   },
   "file_extension": ".py",
   "mimetype": "text/x-python",
   "name": "python",
   "nbconvert_exporter": "python",
   "pygments_lexer": "ipython3",
   "version": "3.9.12"
  }
 },
 "nbformat": 4,
 "nbformat_minor": 5
}
