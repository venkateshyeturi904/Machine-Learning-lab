{
 "cells": [
  {
   "cell_type": "markdown",
   "id": "3da380c6",
   "metadata": {},
   "source": [
    "## Assignment 6 - 27th Sep 2022"
   ]
  },
  {
   "cell_type": "code",
   "execution_count": 1,
   "id": "5bdc0e15",
   "metadata": {},
   "outputs": [],
   "source": [
    "import numpy as np\n",
    "import pandas as pd\n",
    "import random"
   ]
  },
  {
   "cell_type": "code",
   "execution_count": 25,
   "id": "68f0585f",
   "metadata": {},
   "outputs": [],
   "source": [
    "import random\n",
    "\n",
    "def switch_function(shown_door, player_choice):\n",
    "    i=1\n",
    "    while(i==shown_door or i==player_choice):\n",
    "        i=(i+1)%3\n",
    "    return i\n",
    "\n",
    "\n",
    "def get_non_prize_door(host, player_choice):\n",
    "    i=1\n",
    "    while(i==host or i==player_choice):\n",
    "        i=(i+1)%3\n",
    "    return i\n",
    "  \n",
    "\n",
    "def monty_hall_game(switch, num_tests):\n",
    "    win_by_switch = 0\n",
    "    win_by_stay = 0\n",
    "    lose_by_switch = 0\n",
    "    lose_by_stay = 0\n",
    "    \n",
    "    for i in range(0,num_of_tests):\n",
    "        door_with_prize = random.randint(0,2)\n",
    "        initial_player_choice = random.randint(0,2)\n",
    "        player_choice = initial_player_choice\n",
    "        host_shown_door = get_non_prize_door(door_with_prize,initial_player_choice)\n",
    "        if switch == True:\n",
    "            player_choice = switch_function(host_shown_door,player_choice)\n",
    "        \n",
    "        if switch == True:\n",
    "            if player_choice == door_with_prize:\n",
    "                win_by_switch = win_by_switch+1\n",
    "            else:\n",
    "                lose_by_switch = lose_by_switch+1\n",
    "        else:\n",
    "            if player_choice == door_with_prize:\n",
    "                win_by_stay = win_by_stay+1\n",
    "            else:\n",
    "                lose_by_stay=lose_by_stay +1\n",
    "        \n",
    "    return win_by_switch,lose_by_switch,win_by_stay,lose_by_stay\n",
    " \n"
   ]
  },
  {
   "cell_type": "code",
   "execution_count": 27,
   "id": "3b40efbc",
   "metadata": {},
   "outputs": [
    {
     "name": "stdout",
     "output_type": "stream",
     "text": [
      "probability of winning by switching is :  0.62\n",
      "probability of winning by staying is :  0.36\n"
     ]
    }
   ],
   "source": [
    "num_of_tests = 100\n",
    "result_switch = monty_hall_game(True, num_of_tests)\n",
    "result_stay = monty_hall_game(False,num_of_tests)\n",
    "print('probability of winning by switching is : ', result_switch[0]/num_of_tests)\n",
    "print('probability of winning by staying is : ',result_stay[2]/num_of_tests)"
   ]
  },
  {
   "cell_type": "code",
   "execution_count": null,
   "id": "f33e6c3c",
   "metadata": {},
   "outputs": [],
   "source": []
  }
 ],
 "metadata": {
  "kernelspec": {
   "display_name": "Python 3 (ipykernel)",
   "language": "python",
   "name": "python3"
  },
  "language_info": {
   "codemirror_mode": {
    "name": "ipython",
    "version": 3
   },
   "file_extension": ".py",
   "mimetype": "text/x-python",
   "name": "python",
   "nbconvert_exporter": "python",
   "pygments_lexer": "ipython3",
   "version": "3.9.12"
  }
 },
 "nbformat": 4,
 "nbformat_minor": 5
}
