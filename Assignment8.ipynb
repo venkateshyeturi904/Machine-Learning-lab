{
 "cells": [
  {
   "cell_type": "markdown",
   "id": "1c4ce0c2",
   "metadata": {},
   "source": [
    "## Assignment 8 - 18th oct 2022"
   ]
  },
  {
   "cell_type": "code",
   "execution_count": 73,
   "id": "e9b65aa7",
   "metadata": {},
   "outputs": [],
   "source": [
    "# import necessary libraries\n",
    "import pandas as pd\n",
    "import numpy as np\n",
    "import matplotlib.pyplot as plt\n",
    "%matplotlib inline\n",
    "import seaborn as sns\n",
    "import random\n",
    "import math\n",
    "from sklearn.metrics import confusion_matrix, accuracy_score, plot_confusion_matrix\n",
    "from sklearn.model_selection import train_test_split"
   ]
  },
  {
   "cell_type": "code",
   "execution_count": 74,
   "id": "14fa9d52",
   "metadata": {},
   "outputs": [],
   "source": [
    "iris = pd.read_csv(r\"C:\\Users\\Venkatesh Yeturi\\OneDrive\\Desktop\\Class pdfs\\Machine Learning\\all lab assignments\\Iris.csv\")"
   ]
  },
  {
   "cell_type": "code",
   "execution_count": 75,
   "id": "3e2e9dbc",
   "metadata": {},
   "outputs": [
    {
     "data": {
      "text/html": [
       "<div>\n",
       "<style scoped>\n",
       "    .dataframe tbody tr th:only-of-type {\n",
       "        vertical-align: middle;\n",
       "    }\n",
       "\n",
       "    .dataframe tbody tr th {\n",
       "        vertical-align: top;\n",
       "    }\n",
       "\n",
       "    .dataframe thead th {\n",
       "        text-align: right;\n",
       "    }\n",
       "</style>\n",
       "<table border=\"1\" class=\"dataframe\">\n",
       "  <thead>\n",
       "    <tr style=\"text-align: right;\">\n",
       "      <th></th>\n",
       "      <th>Id</th>\n",
       "      <th>SepalLengthCm</th>\n",
       "      <th>SepalWidthCm</th>\n",
       "      <th>PetalLengthCm</th>\n",
       "      <th>PetalWidthCm</th>\n",
       "      <th>Species</th>\n",
       "    </tr>\n",
       "  </thead>\n",
       "  <tbody>\n",
       "    <tr>\n",
       "      <th>0</th>\n",
       "      <td>1</td>\n",
       "      <td>5.1</td>\n",
       "      <td>3.5</td>\n",
       "      <td>1.4</td>\n",
       "      <td>0.2</td>\n",
       "      <td>Iris-setosa</td>\n",
       "    </tr>\n",
       "    <tr>\n",
       "      <th>1</th>\n",
       "      <td>2</td>\n",
       "      <td>4.9</td>\n",
       "      <td>3.0</td>\n",
       "      <td>1.4</td>\n",
       "      <td>0.2</td>\n",
       "      <td>Iris-setosa</td>\n",
       "    </tr>\n",
       "    <tr>\n",
       "      <th>2</th>\n",
       "      <td>3</td>\n",
       "      <td>4.7</td>\n",
       "      <td>3.2</td>\n",
       "      <td>1.3</td>\n",
       "      <td>0.2</td>\n",
       "      <td>Iris-setosa</td>\n",
       "    </tr>\n",
       "    <tr>\n",
       "      <th>3</th>\n",
       "      <td>4</td>\n",
       "      <td>4.6</td>\n",
       "      <td>3.1</td>\n",
       "      <td>1.5</td>\n",
       "      <td>0.2</td>\n",
       "      <td>Iris-setosa</td>\n",
       "    </tr>\n",
       "    <tr>\n",
       "      <th>4</th>\n",
       "      <td>5</td>\n",
       "      <td>5.0</td>\n",
       "      <td>3.6</td>\n",
       "      <td>1.4</td>\n",
       "      <td>0.2</td>\n",
       "      <td>Iris-setosa</td>\n",
       "    </tr>\n",
       "    <tr>\n",
       "      <th>...</th>\n",
       "      <td>...</td>\n",
       "      <td>...</td>\n",
       "      <td>...</td>\n",
       "      <td>...</td>\n",
       "      <td>...</td>\n",
       "      <td>...</td>\n",
       "    </tr>\n",
       "    <tr>\n",
       "      <th>145</th>\n",
       "      <td>146</td>\n",
       "      <td>6.7</td>\n",
       "      <td>3.0</td>\n",
       "      <td>5.2</td>\n",
       "      <td>2.3</td>\n",
       "      <td>Iris-virginica</td>\n",
       "    </tr>\n",
       "    <tr>\n",
       "      <th>146</th>\n",
       "      <td>147</td>\n",
       "      <td>6.3</td>\n",
       "      <td>2.5</td>\n",
       "      <td>5.0</td>\n",
       "      <td>1.9</td>\n",
       "      <td>Iris-virginica</td>\n",
       "    </tr>\n",
       "    <tr>\n",
       "      <th>147</th>\n",
       "      <td>148</td>\n",
       "      <td>6.5</td>\n",
       "      <td>3.0</td>\n",
       "      <td>5.2</td>\n",
       "      <td>2.0</td>\n",
       "      <td>Iris-virginica</td>\n",
       "    </tr>\n",
       "    <tr>\n",
       "      <th>148</th>\n",
       "      <td>149</td>\n",
       "      <td>6.2</td>\n",
       "      <td>3.4</td>\n",
       "      <td>5.4</td>\n",
       "      <td>2.3</td>\n",
       "      <td>Iris-virginica</td>\n",
       "    </tr>\n",
       "    <tr>\n",
       "      <th>149</th>\n",
       "      <td>150</td>\n",
       "      <td>5.9</td>\n",
       "      <td>3.0</td>\n",
       "      <td>5.1</td>\n",
       "      <td>1.8</td>\n",
       "      <td>Iris-virginica</td>\n",
       "    </tr>\n",
       "  </tbody>\n",
       "</table>\n",
       "<p>150 rows × 6 columns</p>\n",
       "</div>"
      ],
      "text/plain": [
       "      Id  SepalLengthCm  SepalWidthCm  PetalLengthCm  PetalWidthCm  \\\n",
       "0      1            5.1           3.5            1.4           0.2   \n",
       "1      2            4.9           3.0            1.4           0.2   \n",
       "2      3            4.7           3.2            1.3           0.2   \n",
       "3      4            4.6           3.1            1.5           0.2   \n",
       "4      5            5.0           3.6            1.4           0.2   \n",
       "..   ...            ...           ...            ...           ...   \n",
       "145  146            6.7           3.0            5.2           2.3   \n",
       "146  147            6.3           2.5            5.0           1.9   \n",
       "147  148            6.5           3.0            5.2           2.0   \n",
       "148  149            6.2           3.4            5.4           2.3   \n",
       "149  150            5.9           3.0            5.1           1.8   \n",
       "\n",
       "            Species  \n",
       "0       Iris-setosa  \n",
       "1       Iris-setosa  \n",
       "2       Iris-setosa  \n",
       "3       Iris-setosa  \n",
       "4       Iris-setosa  \n",
       "..              ...  \n",
       "145  Iris-virginica  \n",
       "146  Iris-virginica  \n",
       "147  Iris-virginica  \n",
       "148  Iris-virginica  \n",
       "149  Iris-virginica  \n",
       "\n",
       "[150 rows x 6 columns]"
      ]
     },
     "execution_count": 75,
     "metadata": {},
     "output_type": "execute_result"
    }
   ],
   "source": [
    "iris"
   ]
  },
  {
   "cell_type": "code",
   "execution_count": 76,
   "id": "0259ed76",
   "metadata": {},
   "outputs": [],
   "source": [
    "iris_setosa = iris[iris['Species']=='Iris-setosa']\n",
    "iris_versicolor = iris[iris['Species']=='Iris-versicolor']\n",
    "iris_virginica = iris[iris['Species']==\"Iris-virginica\"]"
   ]
  },
  {
   "cell_type": "code",
   "execution_count": 78,
   "id": "1a521c0d",
   "metadata": {},
   "outputs": [],
   "source": [
    "y_setosa = iris_setosa['Species']\n",
    "X_setosa = iris_setosa[['SepalLengthCm', 'SepalWidthCm', 'PetalLengthCm', 'PetalWidthCm']]\n",
    "\n",
    "y_versicolor = iris_versicolor['Species']\n",
    "X_versicolor = iris_versicolor[['SepalLengthCm', 'SepalWidthCm', 'PetalLengthCm', 'PetalWidthCm']]\n",
    "\n",
    "y_virginica = iris_virginica['Species']\n",
    "X_virginica = iris_virginica[['SepalLengthCm', 'SepalWidthCm', 'PetalLengthCm', 'PetalWidthCm']]"
   ]
  },
  {
   "cell_type": "code",
   "execution_count": 82,
   "id": "94086e3b",
   "metadata": {},
   "outputs": [],
   "source": [
    "test_index= random.sample(range(1,50),int(50*0.2)) #20% data is test_data\n",
    "train_index=[]\n",
    "for i in range(50):\n",
    "    if i in test_index:\n",
    "        continue\n",
    "    else:\n",
    "        train_index.append(i)\n",
    "\n"
   ]
  },
  {
   "cell_type": "code",
   "execution_count": 83,
   "id": "19d7a8de",
   "metadata": {},
   "outputs": [],
   "source": [
    "def split_data(X,y):\n",
    "    #train_index\n",
    "    #test_index\n",
    "    X_train = X.iloc[train_index]\n",
    "    X_test = X.iloc[test_index]\n",
    "    y_train = y.iloc[train_index]\n",
    "    y_test = y.iloc[test_index]\n",
    "\n",
    "    return(X_train, X_test, y_train, y_test)\n"
   ]
  },
  {
   "cell_type": "code",
   "execution_count": 84,
   "id": "2b84bead",
   "metadata": {},
   "outputs": [
    {
     "data": {
      "text/plain": [
       "array(['Iris-setosa', 'Iris-versicolor', 'Iris-virginica'], dtype=object)"
      ]
     },
     "execution_count": 84,
     "metadata": {},
     "output_type": "execute_result"
    }
   ],
   "source": [
    "X_train_setosa, X_test_setosa, y_train_setosa, y_test_setosa = split_data(X_setosa,y_setosa)\n",
    "X_train_versicolor, X_test_versicolor, y_train_versicolor, y_test_versicolor = split_data(X_versicolor,y_versicolor)\n",
    "X_train_virginica, X_test_virginica, y_train_virginica, y_test_virginica = split_data(X_virginica,y_virginica)\n",
    "\n",
    "X_train = pd.concat([X_train_setosa, X_train_versicolor, X_train_virginica], axis=0)\n",
    "X_test = pd.concat([X_test_setosa, X_test_versicolor, X_test_virginica], axis=0)\n",
    "y_train = pd.concat([y_train_setosa, y_train_versicolor, y_train_virginica], axis=0)\n",
    "y_test = pd.concat([y_test_setosa, y_test_versicolor, y_test_virginica], axis=0)\n",
    "\n",
    "X_train.shape, y_train.shape, X_test.shape, y_test.shape\n",
    "\n",
    "y_test.unique()\n",
    "\n",
    "y_train.unique()"
   ]
  },
  {
   "cell_type": "code",
   "execution_count": 85,
   "id": "7319a941",
   "metadata": {},
   "outputs": [],
   "source": [
    "from sklearn.preprocessing import StandardScaler\n",
    "sc = StandardScaler()\n",
    "X_train = sc.fit_transform(X_train)\n",
    "X_test = sc.transform(X_test)\n"
   ]
  },
  {
   "cell_type": "code",
   "execution_count": 86,
   "id": "aef4c06c",
   "metadata": {},
   "outputs": [],
   "source": [
    "y_train=np.array(y_train)\n",
    "y_test = np.array(y_test)"
   ]
  },
  {
   "cell_type": "code",
   "execution_count": 87,
   "id": "fb21141e",
   "metadata": {},
   "outputs": [],
   "source": [
    "y_train = np.expand_dims(y_train, axis=1)\n",
    "y_test = np.expand_dims(y_test, axis=1)"
   ]
  },
  {
   "cell_type": "code",
   "execution_count": 88,
   "id": "9e258923",
   "metadata": {},
   "outputs": [],
   "source": [
    "def find_dist(a,b,p):\n",
    "    dim = int(len(a))\n",
    "    dist = 0                \n",
    "    for d in range(dim):\n",
    "        dist += abs(a[d]-b[d])**p\n",
    "    dist = dist*(1/p)\n",
    "\n",
    "    return dist\n"
   ]
  },
  {
   "cell_type": "code",
   "execution_count": 89,
   "id": "b5053307",
   "metadata": {},
   "outputs": [],
   "source": [
    "def find_test_dist(test_point, train_data,p,k):\n",
    "    dist=[]\n",
    "    for i in range(len(train_data)):\n",
    "        dist.append(find_dist(test_point, train_data[i],p))\n",
    "    #print(dist)\n",
    "    df_dist = pd.DataFrame(data=dist, index=range(len(train_data)), columns=['dist'])\n",
    "    #print(df_dist.head())\n",
    "    # Now, chcek \"k\" nearest values\n",
    "    df_k_nearest = df_dist.sort_values(by=['dist'], axis=0)[:k]\n",
    "    #print(df_k_nearest.head())\n",
    "\n",
    "    return df_k_nearest"
   ]
  },
  {
   "cell_type": "code",
   "execution_count": 90,
   "id": "7729fb16",
   "metadata": {},
   "outputs": [],
   "source": [
    "pred_= y_train[df.index]"
   ]
  },
  {
   "cell_type": "code",
   "execution_count": 91,
   "id": "8d3d8c54",
   "metadata": {},
   "outputs": [],
   "source": [
    "def test_prediction(X_test,X_train,y_train,p=1,k=5):\n",
    "    y_pred=[]\n",
    "    for i in range(len(X_test)):\n",
    "        df = find_test_dist(X_test[i], X_train,p,k)\n",
    "        pred_= y_train[df.index]\n",
    "        # y_pred=[]\n",
    "        count_setosa=0 ##1\n",
    "        count_versicolor=0 ##2\n",
    "        count_virginica=0 ##3\n",
    "        for i in pred_:\n",
    "            if (i[0]==\"Iris-virginica\"):\n",
    "                count_virginica += 1\n",
    "            elif (i[0]==\"Iris-setosa\"):\n",
    "                count_setosa += 1\n",
    "            else:\n",
    "                count_versicolor += 1\n",
    "            \n",
    "            max = (\"Iris-setosa\" if (count_setosa > count_versicolor and count_setosa > count_virginica) else\n",
    "            (\"Iris-versicolor\" if (count_versicolor > count_setosa and count_versicolor > count_virginica) else \"Iris-virginica\"))\n",
    "\n",
    "        y_pred.append(max)\n",
    "    return y_pred\n"
   ]
  },
  {
   "cell_type": "code",
   "execution_count": 92,
   "id": "89258085",
   "metadata": {},
   "outputs": [],
   "source": [
    "pred_value=test_prediction(X_test,X_train,y_train,p=1,k=5)\n",
    "\n",
    "pred_value[:5]\n",
    "\n",
    "y_test_=[]\n",
    "for i in y_test:\n",
    "    y_test_.append(i[0])"
   ]
  },
  {
   "cell_type": "code",
   "execution_count": null,
   "id": "69e162f7",
   "metadata": {},
   "outputs": [],
   "source": []
  },
  {
   "cell_type": "code",
   "execution_count": 93,
   "id": "23f63175",
   "metadata": {},
   "outputs": [
    {
     "name": "stdout",
     "output_type": "stream",
     "text": [
      "['Iris-setosa', 'Iris-setosa', 'Iris-setosa', 'Iris-setosa', 'Iris-setosa', 'Iris-setosa', 'Iris-setosa', 'Iris-setosa', 'Iris-setosa', 'Iris-setosa', 'Iris-versicolor', 'Iris-versicolor', 'Iris-versicolor', 'Iris-versicolor', 'Iris-versicolor', 'Iris-versicolor', 'Iris-versicolor', 'Iris-versicolor', 'Iris-versicolor', 'Iris-versicolor', 'Iris-virginica', 'Iris-virginica', 'Iris-virginica', 'Iris-virginica', 'Iris-virginica', 'Iris-virginica', 'Iris-virginica', 'Iris-virginica', 'Iris-versicolor', 'Iris-virginica']\n",
      "['Iris-setosa', 'Iris-setosa', 'Iris-setosa', 'Iris-setosa', 'Iris-setosa', 'Iris-setosa', 'Iris-setosa', 'Iris-setosa', 'Iris-setosa', 'Iris-setosa', 'Iris-versicolor', 'Iris-versicolor', 'Iris-versicolor', 'Iris-versicolor', 'Iris-versicolor', 'Iris-versicolor', 'Iris-versicolor', 'Iris-versicolor', 'Iris-versicolor', 'Iris-versicolor', 'Iris-virginica', 'Iris-virginica', 'Iris-virginica', 'Iris-virginica', 'Iris-virginica', 'Iris-virginica', 'Iris-virginica', 'Iris-virginica', 'Iris-virginica', 'Iris-virginica']\n"
     ]
    },
    {
     "data": {
      "text/plain": [
       "array([[10,  0,  0],\n",
       "       [ 0, 10,  1],\n",
       "       [ 0,  0,  9]], dtype=int64)"
      ]
     },
     "execution_count": 93,
     "metadata": {},
     "output_type": "execute_result"
    }
   ],
   "source": [
    "len(pred_value), len(y_test_)\n",
    "\n",
    "print(pred_value)\n",
    "\n",
    "len(pred_value)\n",
    "\n",
    "print(y_test_)\n",
    "\n",
    "confusion_matrix(pred_value, y_test_)\n"
   ]
  },
  {
   "cell_type": "code",
   "execution_count": null,
   "id": "2b3a4729",
   "metadata": {},
   "outputs": [],
   "source": []
  }
 ],
 "metadata": {
  "kernelspec": {
   "display_name": "Python 3 (ipykernel)",
   "language": "python",
   "name": "python3"
  },
  "language_info": {
   "codemirror_mode": {
    "name": "ipython",
    "version": 3
   },
   "file_extension": ".py",
   "mimetype": "text/x-python",
   "name": "python",
   "nbconvert_exporter": "python",
   "pygments_lexer": "ipython3",
   "version": "3.9.12"
  }
 },
 "nbformat": 4,
 "nbformat_minor": 5
}
