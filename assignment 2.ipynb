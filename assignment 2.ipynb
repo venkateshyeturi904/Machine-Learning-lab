{
 "cells": [
  {
   "cell_type": "markdown",
   "id": "bf5075a2",
   "metadata": {},
   "source": [
    "### Assignment 2 - 16th aug 2022\n"
   ]
  },
  {
   "cell_type": "markdown",
   "id": "ba397b88",
   "metadata": {},
   "source": [
    "#### Linear algebra and optimization\n",
    "#### Question 1"
   ]
  },
  {
   "cell_type": "code",
   "execution_count": 31,
   "id": "c31f5369",
   "metadata": {},
   "outputs": [],
   "source": [
    "import numpy as np\n",
    "import pandas as pd\n",
    "import math\n",
    "from matplotlib import pyplot as plt"
   ]
  },
  {
   "cell_type": "code",
   "execution_count": 32,
   "id": "39b2ea97",
   "metadata": {},
   "outputs": [],
   "source": [
    "\n",
    "A=[[9,8,7],[6,5,4]]\n",
    "B=[[1,2,3],[4,5,6]]\n",
    "\n",
    "def trans(B):\n",
    "    Bt=[[0 for i in range(len(B))] for j in range(len(B[0]))]\n",
    "    for i in range(len(B[0])):\n",
    "        for j in range(len(B)):\n",
    "            Bt[i][j]=B[j][i]\n",
    "    return np.array(Bt)\n",
    "\n",
    "def mul(A,B):\n",
    "    C=[[0 for i in range(len(B))] for j in range(len(A))]\n",
    "    for i in range(len(A)):\n",
    "        for j in range(len(B[0])):\n",
    "            sum=0\n",
    "            for k in range(len(B)):\n",
    "                sum=sum+(A[i][k]*B[k][j])\n",
    "            C[i][j]=sum\n",
    "    return np.array(C)\n",
    "\n",
    "def inner(A,B):\n",
    "    C=mul(A,trans(B))\n",
    "    inner = 0\n",
    "    for i in range(len(C)):\n",
    "        inner+=C[i][i]\n",
    "    return inner\n",
    "\n",
    "def norm(A):\n",
    "    normA=0\n",
    "    for i in range(len(A)):\n",
    "        for j in range(len(A[0])):\n",
    "            normA+=A[i][j]*A[i][j]\n",
    "    normA=math.sqrt(normA)\n",
    "    return normA\n",
    "\n",
    "def angle(A,B):\n",
    "    angle =0;\n",
    "    angle=math.acos(inner(A,B)/(norm(A)*norm(B)))\n",
    "    angle=angle*(180/3.14)\n",
    "    return angle\n",
    "\n"
   ]
  },
  {
   "cell_type": "code",
   "execution_count": 33,
   "id": "c21817bc",
   "metadata": {},
   "outputs": [
    {
     "name": "stdout",
     "output_type": "stream",
     "text": [
      "119\n",
      "40.75201572945418\n"
     ]
    }
   ],
   "source": [
    "print(inner(A,B))\n",
    "print(angle(A,B))"
   ]
  },
  {
   "cell_type": "markdown",
   "id": "28298cce",
   "metadata": {},
   "source": [
    "## Question 2\n",
    "eigen values and eigen vectors, PSD"
   ]
  },
  {
   "cell_type": "code",
   "execution_count": 34,
   "id": "dcf3f071",
   "metadata": {},
   "outputs": [],
   "source": [
    "A=[[0.5,0],[0,0.5]]\n",
    "a,b=np.linalg.eig(A)\n",
    "def findPSD(A):\n",
    "    eig=True\n",
    "    for i in a:\n",
    "        if(i<0):\n",
    "            eig=False\n",
    "            break\n",
    "    return True if eig==True else False\n",
    "\n",
    "def eigenValues(A):\n",
    "    return a;\n",
    "def eigenVectors(A):\n",
    "    return b;\n",
    "    \n",
    "def findDiag(A):\n",
    "    PSD=True\n",
    "    for i in range(len(A)):\n",
    "        for j in range(len(A[0])):\n",
    "            if(i!=j):\n",
    "                if(A[i][j]!=0):\n",
    "                    PSD=False\n",
    "                    break;\n",
    "        if(PSD==False):\n",
    "            break\n",
    "    return True if PSD else False                  "
   ]
  },
  {
   "cell_type": "code",
   "execution_count": 35,
   "id": "b57aba4e",
   "metadata": {},
   "outputs": [
    {
     "name": "stdout",
     "output_type": "stream",
     "text": [
      "matrix A is :\n",
      "[[0.5, 0], [0, 0.5]]\n",
      "It is a PSD:  True\n",
      "Its eigen values are :  [0.5 0.5]\n",
      "------------------\n",
      "matrix B is :\n",
      "[[9, 5], [5, 4]]\n",
      "It is a PSD:  True\n",
      "Its eigen values are :  [0.5 0.5]\n",
      "------------------\n",
      "matrix C is :\n",
      "[[1, -0.5], [-0.5, 1]]\n",
      "It is a PSD:  True\n",
      "Its eigen values are :  [0.5 0.5]\n",
      "------------------\n",
      "[[1, -1], [-1, 1]]\n",
      "It is a PSD:  True\n",
      "Its eigen values are :  [0.5 0.5]\n"
     ]
    }
   ],
   "source": [
    "A=[[0.5,0],[0,0.5]]\n",
    "print('matrix A is :')\n",
    "print(A)\n",
    "print('It is a PSD: ',findPSD(A))\n",
    "print('Its eigen values are : ',eigenValues(A))\n",
    "print('------------------')\n",
    "B=[[9,5],[5,4]]\n",
    "print('matrix B is :')\n",
    "print(B)\n",
    "print('It is a PSD: ',findPSD(B))\n",
    "print('Its eigen values are : ',eigenValues(B))\n",
    "print('------------------')\n",
    "C=[[1,-0.5],[-0.5,1]]\n",
    "print('matrix C is :')\n",
    "print(C)\n",
    "print('It is a PSD: ',findPSD(C))\n",
    "print('Its eigen values are : ',eigenValues(C))\n",
    "print('------------------')\n",
    "D=[[1,-1],[-1,1]]\n",
    "print(D)\n",
    "print('It is a PSD: ',findPSD(D))\n",
    "print('Its eigen values are : ',eigenValues(D))"
   ]
  },
  {
   "cell_type": "markdown",
   "id": "32dbf1e4",
   "metadata": {},
   "source": [
    "## Question 3\n",
    "singular value decomposition"
   ]
  },
  {
   "cell_type": "code",
   "execution_count": 36,
   "id": "ecddbe58",
   "metadata": {},
   "outputs": [
    {
     "name": "stdout",
     "output_type": "stream",
     "text": [
      "[5.54801894e+00 7.34624035e-08 2.86696457e+00]\n",
      "[[ 0.64749817  0.75443354  0.10759258]\n",
      " [ 0.7599438  -0.62869461 -0.16501062]\n",
      " [ 0.05684667 -0.18860838  0.9804057 ]]\n",
      "[[ 0.7815437 -0.6238505]\n",
      " [ 0.6238505  0.7815437]]\n",
      "[[ 0.7815437 -0.6238505]\n",
      " [ 0.6238505  0.7815437]]\n",
      "[5.54801894 2.86696457]\n",
      "[[ 0.64749817  0.7599438   0.05684667]\n",
      " [-0.10759258  0.16501062 -0.9804057 ]\n",
      " [-0.75443354  0.62869461  0.18860838]]\n",
      "[5.54801894e+00 7.34624035e-08 2.86696457e+00]\n",
      "<class 'numpy.ndarray'>\n",
      "[[2 0]\n",
      " [0 0]\n",
      " [0 0]]\n"
     ]
    }
   ],
   "source": [
    "\n",
    "A=[[3,3,2],[2,3,-2]]\n",
    "def diag(Eig,size1,size2):\n",
    "    print(Eig)\n",
    "    diag=np.array([[0 for i in range(size1)] for j in range(size2)])\n",
    "    print(type(diag))\n",
    "    for i in range(len(Eig)-1):\n",
    "       diag[i][i]=(np.sqrt(Eig[i]))\n",
    "    return diag\n",
    "        \n",
    "aat = np.dot(A,trans(A))\n",
    "ata = np.dot(trans(A),A)\n",
    "s,u = np.linalg.eig(aat)\n",
    "s,v = np.linalg.eig(ata)\n",
    "u1,s1,v1 = np.linalg.svd(A)\n",
    "for i in range(len(s)):\n",
    "    s[i]=np.sqrt(s[i])\n",
    "print(s)\n",
    "print(v)\n",
    "print(u)\n",
    "print(u1)\n",
    "print(s1)\n",
    "print(v1)\n",
    "print(diag(s,len(u[0]),len(v)))\n",
    "\n",
    "#u,s,vt = svd(A)\n",
    "#s=diag(s,len(u[0]),len(vt))\n",
    "#u=np.matrix(u).reshape(len(u),len(u[0]))\n",
    "#s=np.matrix(s).reshape(len(s),len(s[0]))\n",
    "#print('u= ',u)\n",
    "#print(np.dot(u,np.dot(s,vt)))\n",
    "#print(mul(u,s))\n",
    "#print(np.array(u).reshape(2,2))\n",
    "#print(s)\n",
    "#print(vt)\n",
    "#print(np.dot(u,np.dot(s,vt)))\n",
    "#result=mul(np.matrix(u),np.matrix(s))\n",
    "#print(result)"
   ]
  },
  {
   "cell_type": "markdown",
   "id": "bd3ea329",
   "metadata": {},
   "source": [
    "### Question 4\n",
    "covariance matrix"
   ]
  },
  {
   "cell_type": "code",
   "execution_count": 50,
   "id": "2bd780de",
   "metadata": {},
   "outputs": [
    {
     "name": "stdout",
     "output_type": "stream",
     "text": [
      "     SepalLengthCm  SepalWidthCm  PetalLengthCm  PetalWidthCm         Species\n",
      "0              5.1           3.5            1.4           0.2     Iris-setosa\n",
      "1              4.9           3.0            1.4           0.2     Iris-setosa\n",
      "2              4.7           3.2            1.3           0.2     Iris-setosa\n",
      "3              4.6           3.1            1.5           0.2     Iris-setosa\n",
      "4              5.0           3.6            1.4           0.2     Iris-setosa\n",
      "..             ...           ...            ...           ...             ...\n",
      "145            6.7           3.0            5.2           2.3  Iris-virginica\n",
      "146            6.3           2.5            5.0           1.9  Iris-virginica\n",
      "147            6.5           3.0            5.2           2.0  Iris-virginica\n",
      "148            6.2           3.4            5.4           2.3  Iris-virginica\n",
      "149            5.9           3.0            5.1           1.8  Iris-virginica\n",
      "\n",
      "[150 rows x 5 columns]\n"
     ]
    }
   ],
   "source": [
    "df = pd.read_excel(r\"C:\\Users\\Venkatesh Yeturi\\OneDrive\\Desktop\\ml assignments new\\Iris assignment 2\")\n",
    "print(df)"
   ]
  },
  {
   "cell_type": "code",
   "execution_count": 51,
   "id": "35a4897c",
   "metadata": {},
   "outputs": [
    {
     "name": "stdout",
     "output_type": "stream",
     "text": [
      "     SepalLengthCm  SepalWidthCm  PetalLengthCm  PetalWidthCm         Species\n",
      "0              5.1           3.5            1.4           0.2     Iris-setosa\n",
      "1              4.9           3.0            1.4           0.2     Iris-setosa\n",
      "2              4.7           3.2            1.3           0.2     Iris-setosa\n",
      "3              4.6           3.1            1.5           0.2     Iris-setosa\n",
      "4              5.0           3.6            1.4           0.2     Iris-setosa\n",
      "..             ...           ...            ...           ...             ...\n",
      "145            6.7           3.0            5.2           2.3  Iris-virginica\n",
      "146            6.3           2.5            5.0           1.9  Iris-virginica\n",
      "147            6.5           3.0            5.2           2.0  Iris-virginica\n",
      "148            6.2           3.4            5.4           2.3  Iris-virginica\n",
      "149            5.9           3.0            5.1           1.8  Iris-virginica\n",
      "\n",
      "[150 rows x 5 columns]\n"
     ]
    }
   ],
   "source": [
    "data  = pd.DataFrame(df)\n",
    "print(data)"
   ]
  },
  {
   "cell_type": "code",
   "execution_count": 52,
   "id": "20dd30be",
   "metadata": {},
   "outputs": [
    {
     "name": "stdout",
     "output_type": "stream",
     "text": [
      "               SepalLengthCm  SepalWidthCm  PetalLengthCm  PetalWidthCm\n",
      "SepalLengthCm       0.685694     -0.039268       1.273682      0.516904\n",
      "SepalWidthCm       -0.039268      0.188004      -0.321713     -0.117981\n",
      "PetalLengthCm       1.273682     -0.321713       3.113179      1.296387\n",
      "PetalWidthCm        0.516904     -0.117981       1.296387      0.582414\n"
     ]
    }
   ],
   "source": [
    "covMatrix = data.cov()\n",
    "print(covMatrix)"
   ]
  },
  {
   "cell_type": "code",
   "execution_count": 53,
   "id": "83797efd",
   "metadata": {},
   "outputs": [],
   "source": [
    "evalue,evect = np.linalg.eig(covMatrix)"
   ]
  },
  {
   "cell_type": "code",
   "execution_count": 54,
   "id": "d7d53ba2",
   "metadata": {},
   "outputs": [
    {
     "name": "stdout",
     "output_type": "stream",
     "text": [
      "[4.22484077 0.24224357 0.07852391 0.02368303]\n"
     ]
    }
   ],
   "source": [
    "print(evalue)"
   ]
  },
  {
   "cell_type": "code",
   "execution_count": 55,
   "id": "dc55b354",
   "metadata": {},
   "outputs": [
    {
     "name": "stdout",
     "output_type": "stream",
     "text": [
      "[[ 0.36158968 -0.65653988 -0.58099728  0.31725455]\n",
      " [-0.08226889 -0.72971237  0.59641809 -0.32409435]\n",
      " [ 0.85657211  0.1757674   0.07252408 -0.47971899]\n",
      " [ 0.35884393  0.07470647  0.54906091  0.75112056]]\n"
     ]
    }
   ],
   "source": [
    "print(evect)"
   ]
  },
  {
   "cell_type": "markdown",
   "id": "3e46e765",
   "metadata": {},
   "source": [
    "#### Question 5 \n",
    "#### Probability distributions"
   ]
  },
  {
   "cell_type": "code",
   "execution_count": 56,
   "id": "cd206615",
   "metadata": {},
   "outputs": [
    {
     "data": {
      "text/plain": [
       "[<matplotlib.lines.Line2D at 0x29d632038e0>]"
      ]
     },
     "execution_count": 56,
     "metadata": {},
     "output_type": "execute_result"
    },
    {
     "data": {
      "image/png": "[encoded data removed]",
      "text/plain": [
       "<Figure size 432x288 with 1 Axes>"
      ]
     },
     "metadata": {
      "needs_background": "light"
     },
     "output_type": "display_data"
    }
   ],
   "source": [
    "def uniform(a,b):\n",
    "    return 1/(b-a)\n",
    "x=np.arange(0,10)\n",
    "y=uniform(2,6)*np.float16([0,0,1,1,1,1,1,0,0,0])\n",
    "plt.plot(x,y)\n"
   ]
  },
  {
   "cell_type": "code",
   "execution_count": 57,
   "id": "132bcbd9",
   "metadata": {},
   "outputs": [
    {
     "data": {
      "text/plain": [
       "[<matplotlib.lines.Line2D at 0x29d6319cd00>]"
      ]
     },
     "execution_count": 57,
     "metadata": {},
     "output_type": "execute_result"
    },
    {
     "data": {
      "image/png": "[encoded data removed]",
      "text/plain": [
       "<Figure size 432x288 with 1 Axes>"
      ]
     },
     "metadata": {
      "needs_background": "light"
     },
     "output_type": "display_data"
    }
   ],
   "source": [
    "def exponential(x):\n",
    "    return 0.5*np.exp(-0.5*x)\n",
    "x=np.arange(0,10)\n",
    "y=np.float16([1,1,1,1,1,1,1,1,1,1])*exponential(x)\n",
    "plt.plot(x,y)"
   ]
  },
  {
   "cell_type": "code",
   "execution_count": 58,
   "id": "c2540a9f",
   "metadata": {},
   "outputs": [
    {
     "data": {
      "text/plain": [
       "[<matplotlib.lines.Line2D at 0x29d6324e820>]"
      ]
     },
     "execution_count": 58,
     "metadata": {},
     "output_type": "execute_result"
    },
    {
     "data": {
      "image/png": "[encoded data removed]",
      "text/plain": [
       "<Figure size 432x288 with 1 Axes>"
      ]
     },
     "metadata": {
      "needs_background": "light"
     },
     "output_type": "display_data"
    }
   ],
   "source": [
    "def gaussian(x,sigma):\n",
    "    return (1/(sigma*(math.sqrt(2*sigma))))*np.exp(-(x*x/(2*sigma)*(2*sigma)))\n",
    "x=np.linspace(-5,5,5000)\n",
    "sigma=2\n",
    "y=gaussian(x,sigma)\n",
    "plt.plot(x,y)"
   ]
  },
  {
   "cell_type": "code",
   "execution_count": null,
   "id": "8a86112c",
   "metadata": {},
   "outputs": [],
   "source": []
  }
 ],
 "metadata": {
  "kernelspec": {
   "display_name": "Python 3 (ipykernel)",
   "language": "python",
   "name": "python3"
  },
  "language_info": {
   "codemirror_mode": {
    "name": "ipython",
    "version": 3
   },
   "file_extension": ".py",
   "mimetype": "text/x-python",
   "name": "python",
   "nbconvert_exporter": "python",
   "pygments_lexer": "ipython3",
   "version": "3.9.12"
  }
 },
 "nbformat": 4,
 "nbformat_minor": 5
}
