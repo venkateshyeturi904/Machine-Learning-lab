{
 "cells": [
  {
   "cell_type": "markdown",
   "id": "50c0d209",
   "metadata": {},
   "source": [
    "###### Print Hello World "
   ]
  },
  {
   "cell_type": "code",
   "execution_count": 146,
   "id": "c193e9d4",
   "metadata": {},
   "outputs": [
    {
     "name": "stdout",
     "output_type": "stream",
     "text": [
      "Hello World\n"
     ]
    }
   ],
   "source": [
    "#Q1\n",
    "print('Hello World')"
   ]
  },
  {
   "cell_type": "code",
   "execution_count": 147,
   "id": "a27aa337",
   "metadata": {},
   "outputs": [],
   "source": [
    "#Q2\n",
    "a=35\n",
    "b=5\n",
    "c=a+b\n",
    "d=a-b\n",
    "e=a*b\n",
    "f=a/b\n",
    "g=a%b"
   ]
  },
  {
   "cell_type": "code",
   "execution_count": 148,
   "id": "21d46abc",
   "metadata": {},
   "outputs": [
    {
     "data": {
      "text/plain": [
       "40"
      ]
     },
     "execution_count": 148,
     "metadata": {},
     "output_type": "execute_result"
    }
   ],
   "source": [
    "c"
   ]
  },
  {
   "cell_type": "code",
   "execution_count": null,
   "id": "70e268cf",
   "metadata": {},
   "outputs": [],
   "source": [
    "d"
   ]
  },
  {
   "cell_type": "code",
   "execution_count": 5,
   "id": "cba8f3b2",
   "metadata": {},
   "outputs": [
    {
     "data": {
      "text/plain": [
       "175"
      ]
     },
     "execution_count": 5,
     "metadata": {},
     "output_type": "execute_result"
    }
   ],
   "source": [
    "e"
   ]
  },
  {
   "cell_type": "code",
   "execution_count": 6,
   "id": "6fc0f570",
   "metadata": {},
   "outputs": [
    {
     "data": {
      "text/plain": [
       "7.0"
      ]
     },
     "execution_count": 6,
     "metadata": {},
     "output_type": "execute_result"
    }
   ],
   "source": [
    "f"
   ]
  },
  {
   "cell_type": "code",
   "execution_count": 7,
   "id": "3b87e883",
   "metadata": {},
   "outputs": [
    {
     "data": {
      "text/plain": [
       "0"
      ]
     },
     "execution_count": 7,
     "metadata": {},
     "output_type": "execute_result"
    }
   ],
   "source": [
    "g"
   ]
  },
  {
   "cell_type": "code",
   "execution_count": null,
   "id": "a9137046",
   "metadata": {},
   "outputs": [],
   "source": [
    "#Q3\n",
    "def factorial(num):\n",
    "    if(num<0):\n",
    "        return\n",
    "    if(num==0):\n",
    "        return 1\n",
    "    return num*factorial(num-1)"
   ]
  },
  {
   "cell_type": "code",
   "execution_count": 145,
   "id": "d6a6148e",
   "metadata": {},
   "outputs": [
    {
     "name": "stdout",
     "output_type": "stream",
     "text": [
      "24\n"
     ]
    }
   ],
   "source": [
    "print(factorial(4))"
   ]
  },
  {
   "cell_type": "code",
   "execution_count": null,
   "id": "869e6645",
   "metadata": {
    "scrolled": false
   },
   "outputs": [],
   "source": [
    "factorial(5)"
   ]
  },
  {
   "cell_type": "code",
   "execution_count": 14,
   "id": "2f69b326",
   "metadata": {},
   "outputs": [
    {
     "data": {
      "text/plain": [
       "720"
      ]
     },
     "execution_count": 14,
     "metadata": {},
     "output_type": "execute_result"
    }
   ],
   "source": [
    "factorial(6)"
   ]
  },
  {
   "cell_type": "code",
   "execution_count": 15,
   "id": "5c3d465e",
   "metadata": {},
   "outputs": [
    {
     "name": "stdout",
     "output_type": "stream",
     "text": [
      "1\n"
     ]
    }
   ],
   "source": [
    "print(factorial(1))"
   ]
  },
  {
   "cell_type": "code",
   "execution_count": 16,
   "id": "d0ba4306",
   "metadata": {},
   "outputs": [
    {
     "name": "stdout",
     "output_type": "stream",
     "text": [
      "1\n"
     ]
    }
   ],
   "source": [
    "print(factorial(0))"
   ]
  },
  {
   "cell_type": "code",
   "execution_count": 17,
   "id": "191c7fc1",
   "metadata": {},
   "outputs": [
    {
     "name": "stdout",
     "output_type": "stream",
     "text": [
      "None\n"
     ]
    }
   ],
   "source": [
    "print(factorial(-1))"
   ]
  },
  {
   "cell_type": "code",
   "execution_count": 21,
   "id": "ebe0e761",
   "metadata": {},
   "outputs": [
    {
     "name": "stdout",
     "output_type": "stream",
     "text": [
      "Enter the value of a\n",
      "5\n",
      "Enter the value of b\n",
      "27\n"
     ]
    }
   ],
   "source": [
    "a=int(input('Enter the value of a\\n'))\n",
    "b=int(input('Enter the value of b\\n'))"
   ]
  },
  {
   "cell_type": "code",
   "execution_count": 22,
   "id": "dc8bd07e",
   "metadata": {},
   "outputs": [
    {
     "data": {
      "text/plain": [
       "5"
      ]
     },
     "execution_count": 22,
     "metadata": {},
     "output_type": "execute_result"
    }
   ],
   "source": [
    "a"
   ]
  },
  {
   "cell_type": "code",
   "execution_count": 23,
   "id": "e545db24",
   "metadata": {},
   "outputs": [
    {
     "data": {
      "text/plain": [
       "27"
      ]
     },
     "execution_count": 23,
     "metadata": {},
     "output_type": "execute_result"
    }
   ],
   "source": [
    "b"
   ]
  },
  {
   "cell_type": "code",
   "execution_count": null,
   "id": "272fd49f",
   "metadata": {},
   "outputs": [],
   "source": [
    "#Q4\n",
    "import math\n",
    "def findAllPrimes(num1,num2):\n",
    "    if(num1<=1):\n",
    "        num1=2\n",
    "    for i in range(num1,num2+1,1 ):\n",
    "        prime=True\n",
    "        #print('int value',int(math.sqrt(i)))\n",
    "        for j in range(2,int(math.sqrt(i))+1,1):\n",
    "            if(i%j==0):\n",
    "                prime=False\n",
    "                break\n",
    "        if(prime==True):\n",
    "            print(i)"
   ]
  },
  {
   "cell_type": "code",
   "execution_count": null,
   "id": "4e16729f",
   "metadata": {},
   "outputs": [],
   "source": [
    "findAllPrimes(1,30)"
   ]
  },
  {
   "cell_type": "code",
   "execution_count": null,
   "id": "71106568",
   "metadata": {},
   "outputs": [],
   "source": [
    "findAllPrimes(-5,4)"
   ]
  },
  {
   "cell_type": "code",
   "execution_count": null,
   "id": "c2920b1b",
   "metadata": {},
   "outputs": [],
   "source": [
    "findAllPrimes(1,100)\n"
   ]
  },
  {
   "cell_type": "code",
   "execution_count": 132,
   "id": "f4eb6380",
   "metadata": {},
   "outputs": [],
   "source": [
    "#Q5\n",
    "def LCM(a,b):\n",
    "    c= a if a>b else b\n",
    "    for i in range(c,(a*b)+1,1):\n",
    "        if(i%a==0 and i%b==0):\n",
    "            print(i)\n",
    "            break"
   ]
  },
  {
   "cell_type": "code",
   "execution_count": 133,
   "id": "65cbd5bc",
   "metadata": {},
   "outputs": [
    {
     "name": "stdout",
     "output_type": "stream",
     "text": [
      "10\n"
     ]
    }
   ],
   "source": [
    "LCM(2,5)"
   ]
  },
  {
   "cell_type": "code",
   "execution_count": null,
   "id": "0d549809",
   "metadata": {},
   "outputs": [],
   "source": [
    "LCM(5,44)"
   ]
  },
  {
   "cell_type": "code",
   "execution_count": null,
   "id": "5dbe9df6",
   "metadata": {},
   "outputs": [],
   "source": [
    "#Q6\n",
    "#Selection sort\n",
    "list = [7,2,90,1,5]\n",
    "for i in range(len(list)-1):\n",
    "    for j in range(len(list)-1):\n",
    "        if(list[j]<list[j+1]):\n",
    "            list[j],list[j+1]=list[j+1],list[j]\n",
    "print(list)"
   ]
  },
  {
   "cell_type": "code",
   "execution_count": 2,
   "id": "57edf1c3",
   "metadata": {},
   "outputs": [
    {
     "ename": "TypeError",
     "evalue": "object of type 'type' has no len()",
     "output_type": "error",
     "traceback": [
      "\u001b[1;31m---------------------------------------------------------------------------\u001b[0m",
      "\u001b[1;31mTypeError\u001b[0m                                 Traceback (most recent call last)",
      "Input \u001b[1;32mIn [2]\u001b[0m, in \u001b[0;36m<cell line: 4>\u001b[1;34m()\u001b[0m\n\u001b[0;32m      2\u001b[0m \u001b[38;5;28;01mimport\u001b[39;00m \u001b[38;5;21;01mnumpy\u001b[39;00m \u001b[38;5;28;01mas\u001b[39;00m \u001b[38;5;21;01mnp\u001b[39;00m\n\u001b[0;32m      3\u001b[0m array \u001b[38;5;241m=\u001b[39m np\u001b[38;5;241m.\u001b[39marray([\u001b[38;5;241m7\u001b[39m,\u001b[38;5;241m2\u001b[39m,\u001b[38;5;241m90\u001b[39m,\u001b[38;5;241m1\u001b[39m,\u001b[38;5;241m5\u001b[39m])\n\u001b[1;32m----> 4\u001b[0m \u001b[38;5;28;01mfor\u001b[39;00m i \u001b[38;5;129;01min\u001b[39;00m \u001b[38;5;28mrange\u001b[39m(\u001b[38;5;28;43mlen\u001b[39;49m\u001b[43m(\u001b[49m\u001b[38;5;28;43mlist\u001b[39;49m\u001b[43m)\u001b[49m\u001b[38;5;241m-\u001b[39m\u001b[38;5;241m1\u001b[39m):\n\u001b[0;32m      5\u001b[0m     \u001b[38;5;28;01mfor\u001b[39;00m j \u001b[38;5;129;01min\u001b[39;00m \u001b[38;5;28mrange\u001b[39m(\u001b[38;5;28mlen\u001b[39m(\u001b[38;5;28mlist\u001b[39m)\u001b[38;5;241m-\u001b[39m\u001b[38;5;241m1\u001b[39m):\n\u001b[0;32m      6\u001b[0m         \u001b[38;5;28;01mif\u001b[39;00m(\u001b[38;5;28mlist\u001b[39m[j]\u001b[38;5;241m>\u001b[39m\u001b[38;5;28mlist\u001b[39m[j\u001b[38;5;241m+\u001b[39m\u001b[38;5;241m1\u001b[39m]):\n",
      "\u001b[1;31mTypeError\u001b[0m: object of type 'type' has no len()"
     ]
    }
   ],
   "source": [
    "#Q7\n",
    "import numpy as np\n",
    "array = np.array([7,2,90,1,5])\n",
    "for i in range(len(list)-1):\n",
    "    for j in range(len(list)-1):\n",
    "        if(list[j]>list[j+1]):\n",
    "            list[j],list[j+1]=list[j+1],list[j]\n",
    "print(list)"
   ]
  },
  {
   "cell_type": "code",
   "execution_count": 152,
   "id": "13693c41",
   "metadata": {},
   "outputs": [
    {
     "name": "stdout",
     "output_type": "stream",
     "text": [
      "Enter value of m3\n",
      "Enter value of n4\n",
      "[[ 1  2 -2  3]\n",
      " [-1 -2  1  2]\n",
      " [ 4  1  2  2]]\n"
     ]
    }
   ],
   "source": [
    "#Q8\n",
    "m=int(input('Enter value of m'))\n",
    "n=int(input('Enter value of n'))\n",
    "matrix1 = np.random.randint(-2,5,size=(m,n))\n",
    "print(matrix1)"
   ]
  },
  {
   "cell_type": "code",
   "execution_count": 3,
   "id": "b9190e5e",
   "metadata": {
    "scrolled": true
   },
   "outputs": [
    {
     "name": "stdout",
     "output_type": "stream",
     "text": [
      "Enter the value of m3\n",
      "Enter the value of n3\n",
      "Enter the value of p3\n",
      "Matrix 1 is :\n",
      "[[1 0 1]\n",
      " [1 1 0]\n",
      " [2 1 1]]\n",
      "Matrix 2 is :\n",
      "[[0 1 0]\n",
      " [2 1 1]\n",
      " [1 0 1]]\n",
      "[[0, 0, 0], [0, 0, 0], [0, 0, 0]]\n",
      "resultant matrix :\n",
      "[[1 1 1]\n",
      " [2 2 1]\n",
      " [3 3 2]]\n",
      "reuslt by inbuilt method\n",
      "[[1 1 1]\n",
      " [2 2 1]\n",
      " [3 3 2]]\n"
     ]
    }
   ],
   "source": [
    "#Q9\n",
    "import numpy as np\n",
    "m=int(input('Enter the value of m'))\n",
    "n=int(input('Enter the value of n'))\n",
    "p=int(input('Enter the value of p'))\n",
    "matrix1 = np.random.randint(3,size=(m,n))\n",
    "matrix2 = np.random.randint(3,size=(n,p))\n",
    "print('Matrix 1 is :')\n",
    "print(matrix1)\n",
    "print('Matrix 2 is :')\n",
    "print(matrix2)\n",
    "matrix3 = [[0 for i in range(p)] for j in range(m) ]\n",
    "print(matrix3)\n",
    "for i in range(m):\n",
    "    for j in range(p):\n",
    "        sum=0\n",
    "        for k in range(n):\n",
    "            sum=sum+(matrix1[i,k]*matrix2[k,j])\n",
    "        matrix3[i][j]=sum\n",
    "print('resultant matrix :')\n",
    "print(np.matrix(matrix3))\n",
    "print('reuslt by inbuilt method')\n",
    "print(np.dot(matrix1,matrix2))"
   ]
  },
  {
   "cell_type": "code",
   "execution_count": null,
   "id": "ed978f87",
   "metadata": {},
   "outputs": [],
   "source": []
  },
  {
   "cell_type": "code",
   "execution_count": 185,
   "id": "e4393cd7",
   "metadata": {},
   "outputs": [
    {
     "data": {
      "text/plain": [
       "7"
      ]
     },
     "execution_count": 185,
     "metadata": {},
     "output_type": "execute_result"
    }
   ],
   "source": [
    "#Q10\n",
    "import csv\n",
    "f=open('newCSVFile','w')\n",
    "writer = csv.writer(f)\n",
    "writer.writerow([3,4,5])"
   ]
  },
  {
   "cell_type": "code",
   "execution_count": null,
   "id": "3ec80c28",
   "metadata": {},
   "outputs": [],
   "source": []
  },
  {
   "cell_type": "code",
   "execution_count": null,
   "id": "1a8fe730",
   "metadata": {},
   "outputs": [],
   "source": []
  }
 ],
 "metadata": {
  "kernelspec": {
   "display_name": "Python 3 (ipykernel)",
   "language": "python",
   "name": "python3"
  },
  "language_info": {
   "codemirror_mode": {
    "name": "ipython",
    "version": 3
   },
   "file_extension": ".py",
   "mimetype": "text/x-python",
   "name": "python",
   "nbconvert_exporter": "python",
   "pygments_lexer": "ipython3",
   "version": "3.9.12"
  }
 },
 "nbformat": 4,
 "nbformat_minor": 5
}
